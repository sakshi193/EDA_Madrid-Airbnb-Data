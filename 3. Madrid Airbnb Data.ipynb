{
 "cells": [
  {
   "cell_type": "markdown",
   "id": "e0abab78",
   "metadata": {},
   "source": [
    "## Madrid Airbnb Data"
   ]
  },
  {
   "cell_type": "markdown",
   "id": "78b9cae7",
   "metadata": {},
   "source": [
    "## Part I)  A) Load the library"
   ]
  },
  {
   "cell_type": "code",
   "execution_count": 2,
   "id": "8cf40e7f",
   "metadata": {},
   "outputs": [],
   "source": [
    "# Import required libraries"
   ]
  },
  {
   "cell_type": "code",
   "execution_count": 3,
   "id": "e5947823",
   "metadata": {},
   "outputs": [],
   "source": [
    "import numpy as np\n",
    "import seaborn as sns\n",
    "import pandas as pd\n",
    "import matplotlib.pyplot as plt\n",
    "import sklearn"
   ]
  },
  {
   "cell_type": "markdown",
   "id": "841ab4aa",
   "metadata": {},
   "source": [
    "## Part I) B) Read the data"
   ]
  },
  {
   "cell_type": "code",
   "execution_count": 4,
   "id": "f058ca47",
   "metadata": {},
   "outputs": [],
   "source": [
    "# Load the data from your file or data source"
   ]
  },
  {
   "cell_type": "code",
   "execution_count": 5,
   "id": "d77b2368",
   "metadata": {},
   "outputs": [
    {
     "name": "stdout",
     "output_type": "stream",
     "text": [
      "Madrid Airbnb Data\n"
     ]
    },
    {
     "data": {
      "text/html": [
       "<div>\n",
       "<style scoped>\n",
       "    .dataframe tbody tr th:only-of-type {\n",
       "        vertical-align: middle;\n",
       "    }\n",
       "\n",
       "    .dataframe tbody tr th {\n",
       "        vertical-align: top;\n",
       "    }\n",
       "\n",
       "    .dataframe thead th {\n",
       "        text-align: right;\n",
       "    }\n",
       "</style>\n",
       "<table border=\"1\" class=\"dataframe\">\n",
       "  <thead>\n",
       "    <tr style=\"text-align: right;\">\n",
       "      <th></th>\n",
       "      <th>id</th>\n",
       "      <th>name</th>\n",
       "      <th>host_id</th>\n",
       "      <th>host_name</th>\n",
       "      <th>neighbourhood_group</th>\n",
       "      <th>neighbourhood</th>\n",
       "      <th>latitude</th>\n",
       "      <th>longitude</th>\n",
       "      <th>room_type</th>\n",
       "      <th>price</th>\n",
       "      <th>minimum_nights</th>\n",
       "      <th>number_of_reviews</th>\n",
       "      <th>last_review</th>\n",
       "      <th>reviews_per_month</th>\n",
       "      <th>calculated_host_listings_count</th>\n",
       "      <th>availability_365</th>\n",
       "    </tr>\n",
       "  </thead>\n",
       "  <tbody>\n",
       "    <tr>\n",
       "      <th>0</th>\n",
       "      <td>6369</td>\n",
       "      <td>Rooftop terrace room ,  ensuite bathroom</td>\n",
       "      <td>13660</td>\n",
       "      <td>Simon</td>\n",
       "      <td>Chamartín</td>\n",
       "      <td>Hispanoamérica</td>\n",
       "      <td>40.45724</td>\n",
       "      <td>-3.67688</td>\n",
       "      <td>Private room</td>\n",
       "      <td>60</td>\n",
       "      <td>1</td>\n",
       "      <td>78</td>\n",
       "      <td>2020-09-20</td>\n",
       "      <td>0.58</td>\n",
       "      <td>1</td>\n",
       "      <td>180</td>\n",
       "    </tr>\n",
       "    <tr>\n",
       "      <th>1</th>\n",
       "      <td>21853</td>\n",
       "      <td>Bright and airy room</td>\n",
       "      <td>83531</td>\n",
       "      <td>Abdel</td>\n",
       "      <td>Latina</td>\n",
       "      <td>Cármenes</td>\n",
       "      <td>40.40381</td>\n",
       "      <td>-3.74130</td>\n",
       "      <td>Private room</td>\n",
       "      <td>31</td>\n",
       "      <td>4</td>\n",
       "      <td>33</td>\n",
       "      <td>2018-07-15</td>\n",
       "      <td>0.42</td>\n",
       "      <td>2</td>\n",
       "      <td>364</td>\n",
       "    </tr>\n",
       "    <tr>\n",
       "      <th>2</th>\n",
       "      <td>23001</td>\n",
       "      <td>Apartmento Arganzuela- Madrid Rio</td>\n",
       "      <td>82175</td>\n",
       "      <td>Jesus</td>\n",
       "      <td>Arganzuela</td>\n",
       "      <td>Legazpi</td>\n",
       "      <td>40.38840</td>\n",
       "      <td>-3.69511</td>\n",
       "      <td>Entire home/apt</td>\n",
       "      <td>50</td>\n",
       "      <td>15</td>\n",
       "      <td>0</td>\n",
       "      <td>NaN</td>\n",
       "      <td>NaN</td>\n",
       "      <td>7</td>\n",
       "      <td>1</td>\n",
       "    </tr>\n",
       "    <tr>\n",
       "      <th>3</th>\n",
       "      <td>24805</td>\n",
       "      <td>Gran Via Studio Madrid</td>\n",
       "      <td>346366726</td>\n",
       "      <td>A</td>\n",
       "      <td>Centro</td>\n",
       "      <td>Universidad</td>\n",
       "      <td>40.42183</td>\n",
       "      <td>-3.70529</td>\n",
       "      <td>Entire home/apt</td>\n",
       "      <td>92</td>\n",
       "      <td>5</td>\n",
       "      <td>10</td>\n",
       "      <td>2020-03-01</td>\n",
       "      <td>0.13</td>\n",
       "      <td>1</td>\n",
       "      <td>72</td>\n",
       "    </tr>\n",
       "    <tr>\n",
       "      <th>4</th>\n",
       "      <td>26825</td>\n",
       "      <td>Single Room whith private Bathroom</td>\n",
       "      <td>114340</td>\n",
       "      <td>Agustina</td>\n",
       "      <td>Arganzuela</td>\n",
       "      <td>Legazpi</td>\n",
       "      <td>40.38975</td>\n",
       "      <td>-3.69018</td>\n",
       "      <td>Private room</td>\n",
       "      <td>26</td>\n",
       "      <td>2</td>\n",
       "      <td>149</td>\n",
       "      <td>2020-03-12</td>\n",
       "      <td>1.12</td>\n",
       "      <td>1</td>\n",
       "      <td>365</td>\n",
       "    </tr>\n",
       "    <tr>\n",
       "      <th>...</th>\n",
       "      <td>...</td>\n",
       "      <td>...</td>\n",
       "      <td>...</td>\n",
       "      <td>...</td>\n",
       "      <td>...</td>\n",
       "      <td>...</td>\n",
       "      <td>...</td>\n",
       "      <td>...</td>\n",
       "      <td>...</td>\n",
       "      <td>...</td>\n",
       "      <td>...</td>\n",
       "      <td>...</td>\n",
       "      <td>...</td>\n",
       "      <td>...</td>\n",
       "      <td>...</td>\n",
       "      <td>...</td>\n",
       "    </tr>\n",
       "    <tr>\n",
       "      <th>19613</th>\n",
       "      <td>49185822</td>\n",
       "      <td>Habitación con TV con Netflix en Lavapiés</td>\n",
       "      <td>172011610</td>\n",
       "      <td>Belaid</td>\n",
       "      <td>Centro</td>\n",
       "      <td>Embajadores</td>\n",
       "      <td>40.40756</td>\n",
       "      <td>-3.69937</td>\n",
       "      <td>Private room</td>\n",
       "      <td>23</td>\n",
       "      <td>30</td>\n",
       "      <td>0</td>\n",
       "      <td>NaN</td>\n",
       "      <td>NaN</td>\n",
       "      <td>8</td>\n",
       "      <td>349</td>\n",
       "    </tr>\n",
       "    <tr>\n",
       "      <th>19614</th>\n",
       "      <td>49186179</td>\n",
       "      <td>Habitación con TV con Netflix en Gaztambide</td>\n",
       "      <td>172011610</td>\n",
       "      <td>Belaid</td>\n",
       "      <td>Chamberí</td>\n",
       "      <td>Gaztambide</td>\n",
       "      <td>40.43706</td>\n",
       "      <td>-3.71364</td>\n",
       "      <td>Private room</td>\n",
       "      <td>21</td>\n",
       "      <td>30</td>\n",
       "      <td>0</td>\n",
       "      <td>NaN</td>\n",
       "      <td>NaN</td>\n",
       "      <td>8</td>\n",
       "      <td>350</td>\n",
       "    </tr>\n",
       "    <tr>\n",
       "      <th>19615</th>\n",
       "      <td>49187258</td>\n",
       "      <td>Habitación con TV con Netflix en Chamberí</td>\n",
       "      <td>172011610</td>\n",
       "      <td>Belaid</td>\n",
       "      <td>Chamberí</td>\n",
       "      <td>Arapiles</td>\n",
       "      <td>40.43857</td>\n",
       "      <td>-3.70715</td>\n",
       "      <td>Private room</td>\n",
       "      <td>22</td>\n",
       "      <td>7</td>\n",
       "      <td>0</td>\n",
       "      <td>NaN</td>\n",
       "      <td>NaN</td>\n",
       "      <td>8</td>\n",
       "      <td>364</td>\n",
       "    </tr>\n",
       "    <tr>\n",
       "      <th>19616</th>\n",
       "      <td>49187471</td>\n",
       "      <td>Habitación con TV con Netflix en Goya</td>\n",
       "      <td>172011610</td>\n",
       "      <td>Belaid</td>\n",
       "      <td>Salamanca</td>\n",
       "      <td>Guindalera</td>\n",
       "      <td>40.43027</td>\n",
       "      <td>-3.66759</td>\n",
       "      <td>Private room</td>\n",
       "      <td>19</td>\n",
       "      <td>30</td>\n",
       "      <td>0</td>\n",
       "      <td>NaN</td>\n",
       "      <td>NaN</td>\n",
       "      <td>8</td>\n",
       "      <td>349</td>\n",
       "    </tr>\n",
       "    <tr>\n",
       "      <th>19617</th>\n",
       "      <td>49187791</td>\n",
       "      <td>Habitación con TV con Netflix en Chamberí</td>\n",
       "      <td>172011610</td>\n",
       "      <td>Belaid</td>\n",
       "      <td>Chamberí</td>\n",
       "      <td>Arapiles</td>\n",
       "      <td>40.43484</td>\n",
       "      <td>-3.70667</td>\n",
       "      <td>Private room</td>\n",
       "      <td>20</td>\n",
       "      <td>30</td>\n",
       "      <td>0</td>\n",
       "      <td>NaN</td>\n",
       "      <td>NaN</td>\n",
       "      <td>8</td>\n",
       "      <td>349</td>\n",
       "    </tr>\n",
       "  </tbody>\n",
       "</table>\n",
       "<p>19618 rows × 16 columns</p>\n",
       "</div>"
      ],
      "text/plain": [
       "             id                                         name    host_id   \n",
       "0          6369     Rooftop terrace room ,  ensuite bathroom      13660  \\\n",
       "1         21853                         Bright and airy room      83531   \n",
       "2         23001            Apartmento Arganzuela- Madrid Rio      82175   \n",
       "3         24805                       Gran Via Studio Madrid  346366726   \n",
       "4         26825           Single Room whith private Bathroom     114340   \n",
       "...         ...                                          ...        ...   \n",
       "19613  49185822    Habitación con TV con Netflix en Lavapiés  172011610   \n",
       "19614  49186179  Habitación con TV con Netflix en Gaztambide  172011610   \n",
       "19615  49187258    Habitación con TV con Netflix en Chamberí  172011610   \n",
       "19616  49187471        Habitación con TV con Netflix en Goya  172011610   \n",
       "19617  49187791    Habitación con TV con Netflix en Chamberí  172011610   \n",
       "\n",
       "      host_name neighbourhood_group   neighbourhood  latitude  longitude   \n",
       "0         Simon           Chamartín  Hispanoamérica  40.45724   -3.67688  \\\n",
       "1         Abdel              Latina        Cármenes  40.40381   -3.74130   \n",
       "2         Jesus          Arganzuela         Legazpi  40.38840   -3.69511   \n",
       "3             A              Centro     Universidad  40.42183   -3.70529   \n",
       "4      Agustina          Arganzuela         Legazpi  40.38975   -3.69018   \n",
       "...         ...                 ...             ...       ...        ...   \n",
       "19613    Belaid              Centro     Embajadores  40.40756   -3.69937   \n",
       "19614    Belaid            Chamberí      Gaztambide  40.43706   -3.71364   \n",
       "19615    Belaid            Chamberí        Arapiles  40.43857   -3.70715   \n",
       "19616    Belaid           Salamanca      Guindalera  40.43027   -3.66759   \n",
       "19617    Belaid            Chamberí        Arapiles  40.43484   -3.70667   \n",
       "\n",
       "             room_type  price  minimum_nights  number_of_reviews last_review   \n",
       "0         Private room     60               1                 78  2020-09-20  \\\n",
       "1         Private room     31               4                 33  2018-07-15   \n",
       "2      Entire home/apt     50              15                  0         NaN   \n",
       "3      Entire home/apt     92               5                 10  2020-03-01   \n",
       "4         Private room     26               2                149  2020-03-12   \n",
       "...                ...    ...             ...                ...         ...   \n",
       "19613     Private room     23              30                  0         NaN   \n",
       "19614     Private room     21              30                  0         NaN   \n",
       "19615     Private room     22               7                  0         NaN   \n",
       "19616     Private room     19              30                  0         NaN   \n",
       "19617     Private room     20              30                  0         NaN   \n",
       "\n",
       "       reviews_per_month  calculated_host_listings_count  availability_365  \n",
       "0                   0.58                               1               180  \n",
       "1                   0.42                               2               364  \n",
       "2                    NaN                               7                 1  \n",
       "3                   0.13                               1                72  \n",
       "4                   1.12                               1               365  \n",
       "...                  ...                             ...               ...  \n",
       "19613                NaN                               8               349  \n",
       "19614                NaN                               8               350  \n",
       "19615                NaN                               8               364  \n",
       "19616                NaN                               8               349  \n",
       "19617                NaN                               8               349  \n",
       "\n",
       "[19618 rows x 16 columns]"
      ]
     },
     "execution_count": 5,
     "metadata": {},
     "output_type": "execute_result"
    }
   ],
   "source": [
    "air_df=pd.read_csv('listings.csv')\n",
    "print('Madrid Airbnb Data')\n",
    "air_df"
   ]
  },
  {
   "cell_type": "markdown",
   "id": "4953b3ad",
   "metadata": {},
   "source": [
    "This data file includes all needed information to find out more about hosts, geographical availability,\n",
    "necessary metrics to make predictions and draw conclusions."
   ]
  },
  {
   "cell_type": "code",
   "execution_count": 6,
   "id": "061d5721",
   "metadata": {},
   "outputs": [],
   "source": [
    "# Show first 5 rows"
   ]
  },
  {
   "cell_type": "code",
   "execution_count": 7,
   "id": "3530fc5b",
   "metadata": {},
   "outputs": [
    {
     "data": {
      "text/html": [
       "<div>\n",
       "<style scoped>\n",
       "    .dataframe tbody tr th:only-of-type {\n",
       "        vertical-align: middle;\n",
       "    }\n",
       "\n",
       "    .dataframe tbody tr th {\n",
       "        vertical-align: top;\n",
       "    }\n",
       "\n",
       "    .dataframe thead th {\n",
       "        text-align: right;\n",
       "    }\n",
       "</style>\n",
       "<table border=\"1\" class=\"dataframe\">\n",
       "  <thead>\n",
       "    <tr style=\"text-align: right;\">\n",
       "      <th></th>\n",
       "      <th>id</th>\n",
       "      <th>name</th>\n",
       "      <th>host_id</th>\n",
       "      <th>host_name</th>\n",
       "      <th>neighbourhood_group</th>\n",
       "      <th>neighbourhood</th>\n",
       "      <th>latitude</th>\n",
       "      <th>longitude</th>\n",
       "      <th>room_type</th>\n",
       "      <th>price</th>\n",
       "      <th>minimum_nights</th>\n",
       "      <th>number_of_reviews</th>\n",
       "      <th>last_review</th>\n",
       "      <th>reviews_per_month</th>\n",
       "      <th>calculated_host_listings_count</th>\n",
       "      <th>availability_365</th>\n",
       "    </tr>\n",
       "  </thead>\n",
       "  <tbody>\n",
       "    <tr>\n",
       "      <th>0</th>\n",
       "      <td>6369</td>\n",
       "      <td>Rooftop terrace room ,  ensuite bathroom</td>\n",
       "      <td>13660</td>\n",
       "      <td>Simon</td>\n",
       "      <td>Chamartín</td>\n",
       "      <td>Hispanoamérica</td>\n",
       "      <td>40.45724</td>\n",
       "      <td>-3.67688</td>\n",
       "      <td>Private room</td>\n",
       "      <td>60</td>\n",
       "      <td>1</td>\n",
       "      <td>78</td>\n",
       "      <td>2020-09-20</td>\n",
       "      <td>0.58</td>\n",
       "      <td>1</td>\n",
       "      <td>180</td>\n",
       "    </tr>\n",
       "    <tr>\n",
       "      <th>1</th>\n",
       "      <td>21853</td>\n",
       "      <td>Bright and airy room</td>\n",
       "      <td>83531</td>\n",
       "      <td>Abdel</td>\n",
       "      <td>Latina</td>\n",
       "      <td>Cármenes</td>\n",
       "      <td>40.40381</td>\n",
       "      <td>-3.74130</td>\n",
       "      <td>Private room</td>\n",
       "      <td>31</td>\n",
       "      <td>4</td>\n",
       "      <td>33</td>\n",
       "      <td>2018-07-15</td>\n",
       "      <td>0.42</td>\n",
       "      <td>2</td>\n",
       "      <td>364</td>\n",
       "    </tr>\n",
       "    <tr>\n",
       "      <th>2</th>\n",
       "      <td>23001</td>\n",
       "      <td>Apartmento Arganzuela- Madrid Rio</td>\n",
       "      <td>82175</td>\n",
       "      <td>Jesus</td>\n",
       "      <td>Arganzuela</td>\n",
       "      <td>Legazpi</td>\n",
       "      <td>40.38840</td>\n",
       "      <td>-3.69511</td>\n",
       "      <td>Entire home/apt</td>\n",
       "      <td>50</td>\n",
       "      <td>15</td>\n",
       "      <td>0</td>\n",
       "      <td>NaN</td>\n",
       "      <td>NaN</td>\n",
       "      <td>7</td>\n",
       "      <td>1</td>\n",
       "    </tr>\n",
       "    <tr>\n",
       "      <th>3</th>\n",
       "      <td>24805</td>\n",
       "      <td>Gran Via Studio Madrid</td>\n",
       "      <td>346366726</td>\n",
       "      <td>A</td>\n",
       "      <td>Centro</td>\n",
       "      <td>Universidad</td>\n",
       "      <td>40.42183</td>\n",
       "      <td>-3.70529</td>\n",
       "      <td>Entire home/apt</td>\n",
       "      <td>92</td>\n",
       "      <td>5</td>\n",
       "      <td>10</td>\n",
       "      <td>2020-03-01</td>\n",
       "      <td>0.13</td>\n",
       "      <td>1</td>\n",
       "      <td>72</td>\n",
       "    </tr>\n",
       "    <tr>\n",
       "      <th>4</th>\n",
       "      <td>26825</td>\n",
       "      <td>Single Room whith private Bathroom</td>\n",
       "      <td>114340</td>\n",
       "      <td>Agustina</td>\n",
       "      <td>Arganzuela</td>\n",
       "      <td>Legazpi</td>\n",
       "      <td>40.38975</td>\n",
       "      <td>-3.69018</td>\n",
       "      <td>Private room</td>\n",
       "      <td>26</td>\n",
       "      <td>2</td>\n",
       "      <td>149</td>\n",
       "      <td>2020-03-12</td>\n",
       "      <td>1.12</td>\n",
       "      <td>1</td>\n",
       "      <td>365</td>\n",
       "    </tr>\n",
       "  </tbody>\n",
       "</table>\n",
       "</div>"
      ],
      "text/plain": [
       "      id                                      name    host_id host_name   \n",
       "0   6369  Rooftop terrace room ,  ensuite bathroom      13660     Simon  \\\n",
       "1  21853                      Bright and airy room      83531     Abdel   \n",
       "2  23001         Apartmento Arganzuela- Madrid Rio      82175     Jesus   \n",
       "3  24805                    Gran Via Studio Madrid  346366726         A   \n",
       "4  26825        Single Room whith private Bathroom     114340  Agustina   \n",
       "\n",
       "  neighbourhood_group   neighbourhood  latitude  longitude        room_type   \n",
       "0           Chamartín  Hispanoamérica  40.45724   -3.67688     Private room  \\\n",
       "1              Latina        Cármenes  40.40381   -3.74130     Private room   \n",
       "2          Arganzuela         Legazpi  40.38840   -3.69511  Entire home/apt   \n",
       "3              Centro     Universidad  40.42183   -3.70529  Entire home/apt   \n",
       "4          Arganzuela         Legazpi  40.38975   -3.69018     Private room   \n",
       "\n",
       "   price  minimum_nights  number_of_reviews last_review  reviews_per_month   \n",
       "0     60               1                 78  2020-09-20               0.58  \\\n",
       "1     31               4                 33  2018-07-15               0.42   \n",
       "2     50              15                  0         NaN                NaN   \n",
       "3     92               5                 10  2020-03-01               0.13   \n",
       "4     26               2                149  2020-03-12               1.12   \n",
       "\n",
       "   calculated_host_listings_count  availability_365  \n",
       "0                               1               180  \n",
       "1                               2               364  \n",
       "2                               7                 1  \n",
       "3                               1                72  \n",
       "4                               1               365  "
      ]
     },
     "execution_count": 7,
     "metadata": {},
     "output_type": "execute_result"
    }
   ],
   "source": [
    "air_df.head()"
   ]
  },
  {
   "cell_type": "code",
   "execution_count": 8,
   "id": "05c27ec9",
   "metadata": {},
   "outputs": [],
   "source": [
    "# Show last 5 rows"
   ]
  },
  {
   "cell_type": "code",
   "execution_count": 9,
   "id": "1da4b35c",
   "metadata": {
    "scrolled": true
   },
   "outputs": [
    {
     "data": {
      "text/html": [
       "<div>\n",
       "<style scoped>\n",
       "    .dataframe tbody tr th:only-of-type {\n",
       "        vertical-align: middle;\n",
       "    }\n",
       "\n",
       "    .dataframe tbody tr th {\n",
       "        vertical-align: top;\n",
       "    }\n",
       "\n",
       "    .dataframe thead th {\n",
       "        text-align: right;\n",
       "    }\n",
       "</style>\n",
       "<table border=\"1\" class=\"dataframe\">\n",
       "  <thead>\n",
       "    <tr style=\"text-align: right;\">\n",
       "      <th></th>\n",
       "      <th>id</th>\n",
       "      <th>name</th>\n",
       "      <th>host_id</th>\n",
       "      <th>host_name</th>\n",
       "      <th>neighbourhood_group</th>\n",
       "      <th>neighbourhood</th>\n",
       "      <th>latitude</th>\n",
       "      <th>longitude</th>\n",
       "      <th>room_type</th>\n",
       "      <th>price</th>\n",
       "      <th>minimum_nights</th>\n",
       "      <th>number_of_reviews</th>\n",
       "      <th>last_review</th>\n",
       "      <th>reviews_per_month</th>\n",
       "      <th>calculated_host_listings_count</th>\n",
       "      <th>availability_365</th>\n",
       "    </tr>\n",
       "  </thead>\n",
       "  <tbody>\n",
       "    <tr>\n",
       "      <th>19613</th>\n",
       "      <td>49185822</td>\n",
       "      <td>Habitación con TV con Netflix en Lavapiés</td>\n",
       "      <td>172011610</td>\n",
       "      <td>Belaid</td>\n",
       "      <td>Centro</td>\n",
       "      <td>Embajadores</td>\n",
       "      <td>40.40756</td>\n",
       "      <td>-3.69937</td>\n",
       "      <td>Private room</td>\n",
       "      <td>23</td>\n",
       "      <td>30</td>\n",
       "      <td>0</td>\n",
       "      <td>NaN</td>\n",
       "      <td>NaN</td>\n",
       "      <td>8</td>\n",
       "      <td>349</td>\n",
       "    </tr>\n",
       "    <tr>\n",
       "      <th>19614</th>\n",
       "      <td>49186179</td>\n",
       "      <td>Habitación con TV con Netflix en Gaztambide</td>\n",
       "      <td>172011610</td>\n",
       "      <td>Belaid</td>\n",
       "      <td>Chamberí</td>\n",
       "      <td>Gaztambide</td>\n",
       "      <td>40.43706</td>\n",
       "      <td>-3.71364</td>\n",
       "      <td>Private room</td>\n",
       "      <td>21</td>\n",
       "      <td>30</td>\n",
       "      <td>0</td>\n",
       "      <td>NaN</td>\n",
       "      <td>NaN</td>\n",
       "      <td>8</td>\n",
       "      <td>350</td>\n",
       "    </tr>\n",
       "    <tr>\n",
       "      <th>19615</th>\n",
       "      <td>49187258</td>\n",
       "      <td>Habitación con TV con Netflix en Chamberí</td>\n",
       "      <td>172011610</td>\n",
       "      <td>Belaid</td>\n",
       "      <td>Chamberí</td>\n",
       "      <td>Arapiles</td>\n",
       "      <td>40.43857</td>\n",
       "      <td>-3.70715</td>\n",
       "      <td>Private room</td>\n",
       "      <td>22</td>\n",
       "      <td>7</td>\n",
       "      <td>0</td>\n",
       "      <td>NaN</td>\n",
       "      <td>NaN</td>\n",
       "      <td>8</td>\n",
       "      <td>364</td>\n",
       "    </tr>\n",
       "    <tr>\n",
       "      <th>19616</th>\n",
       "      <td>49187471</td>\n",
       "      <td>Habitación con TV con Netflix en Goya</td>\n",
       "      <td>172011610</td>\n",
       "      <td>Belaid</td>\n",
       "      <td>Salamanca</td>\n",
       "      <td>Guindalera</td>\n",
       "      <td>40.43027</td>\n",
       "      <td>-3.66759</td>\n",
       "      <td>Private room</td>\n",
       "      <td>19</td>\n",
       "      <td>30</td>\n",
       "      <td>0</td>\n",
       "      <td>NaN</td>\n",
       "      <td>NaN</td>\n",
       "      <td>8</td>\n",
       "      <td>349</td>\n",
       "    </tr>\n",
       "    <tr>\n",
       "      <th>19617</th>\n",
       "      <td>49187791</td>\n",
       "      <td>Habitación con TV con Netflix en Chamberí</td>\n",
       "      <td>172011610</td>\n",
       "      <td>Belaid</td>\n",
       "      <td>Chamberí</td>\n",
       "      <td>Arapiles</td>\n",
       "      <td>40.43484</td>\n",
       "      <td>-3.70667</td>\n",
       "      <td>Private room</td>\n",
       "      <td>20</td>\n",
       "      <td>30</td>\n",
       "      <td>0</td>\n",
       "      <td>NaN</td>\n",
       "      <td>NaN</td>\n",
       "      <td>8</td>\n",
       "      <td>349</td>\n",
       "    </tr>\n",
       "  </tbody>\n",
       "</table>\n",
       "</div>"
      ],
      "text/plain": [
       "             id                                         name    host_id   \n",
       "19613  49185822    Habitación con TV con Netflix en Lavapiés  172011610  \\\n",
       "19614  49186179  Habitación con TV con Netflix en Gaztambide  172011610   \n",
       "19615  49187258    Habitación con TV con Netflix en Chamberí  172011610   \n",
       "19616  49187471        Habitación con TV con Netflix en Goya  172011610   \n",
       "19617  49187791    Habitación con TV con Netflix en Chamberí  172011610   \n",
       "\n",
       "      host_name neighbourhood_group neighbourhood  latitude  longitude   \n",
       "19613    Belaid              Centro   Embajadores  40.40756   -3.69937  \\\n",
       "19614    Belaid            Chamberí    Gaztambide  40.43706   -3.71364   \n",
       "19615    Belaid            Chamberí      Arapiles  40.43857   -3.70715   \n",
       "19616    Belaid           Salamanca    Guindalera  40.43027   -3.66759   \n",
       "19617    Belaid            Chamberí      Arapiles  40.43484   -3.70667   \n",
       "\n",
       "          room_type  price  minimum_nights  number_of_reviews last_review   \n",
       "19613  Private room     23              30                  0         NaN  \\\n",
       "19614  Private room     21              30                  0         NaN   \n",
       "19615  Private room     22               7                  0         NaN   \n",
       "19616  Private room     19              30                  0         NaN   \n",
       "19617  Private room     20              30                  0         NaN   \n",
       "\n",
       "       reviews_per_month  calculated_host_listings_count  availability_365  \n",
       "19613                NaN                               8               349  \n",
       "19614                NaN                               8               350  \n",
       "19615                NaN                               8               364  \n",
       "19616                NaN                               8               349  \n",
       "19617                NaN                               8               349  "
      ]
     },
     "execution_count": 9,
     "metadata": {},
     "output_type": "execute_result"
    }
   ],
   "source": [
    "air_df.tail()"
   ]
  },
  {
   "cell_type": "code",
   "execution_count": 10,
   "id": "c71f56ff",
   "metadata": {},
   "outputs": [],
   "source": [
    "# Show the info for data"
   ]
  },
  {
   "cell_type": "code",
   "execution_count": 11,
   "id": "42420d1e",
   "metadata": {},
   "outputs": [
    {
     "name": "stdout",
     "output_type": "stream",
     "text": [
      "<class 'pandas.core.frame.DataFrame'>\n",
      "RangeIndex: 19618 entries, 0 to 19617\n",
      "Data columns (total 16 columns):\n",
      " #   Column                          Non-Null Count  Dtype  \n",
      "---  ------                          --------------  -----  \n",
      " 0   id                              19618 non-null  int64  \n",
      " 1   name                            19615 non-null  object \n",
      " 2   host_id                         19618 non-null  int64  \n",
      " 3   host_name                       19091 non-null  object \n",
      " 4   neighbourhood_group             19618 non-null  object \n",
      " 5   neighbourhood                   19618 non-null  object \n",
      " 6   latitude                        19618 non-null  float64\n",
      " 7   longitude                       19618 non-null  float64\n",
      " 8   room_type                       19618 non-null  object \n",
      " 9   price                           19618 non-null  int64  \n",
      " 10  minimum_nights                  19618 non-null  int64  \n",
      " 11  number_of_reviews               19618 non-null  int64  \n",
      " 12  last_review                     13981 non-null  object \n",
      " 13  reviews_per_month               13981 non-null  float64\n",
      " 14  calculated_host_listings_count  19618 non-null  int64  \n",
      " 15  availability_365                19618 non-null  int64  \n",
      "dtypes: float64(3), int64(7), object(6)\n",
      "memory usage: 2.4+ MB\n"
     ]
    }
   ],
   "source": [
    "air_df.info()"
   ]
  },
  {
   "cell_type": "code",
   "execution_count": 12,
   "id": "ea86b273",
   "metadata": {},
   "outputs": [],
   "source": [
    "# Show the columns"
   ]
  },
  {
   "cell_type": "code",
   "execution_count": 13,
   "id": "4c6f6f67",
   "metadata": {},
   "outputs": [
    {
     "data": {
      "text/plain": [
       "Index(['id', 'name', 'host_id', 'host_name', 'neighbourhood_group',\n",
       "       'neighbourhood', 'latitude', 'longitude', 'room_type', 'price',\n",
       "       'minimum_nights', 'number_of_reviews', 'last_review',\n",
       "       'reviews_per_month', 'calculated_host_listings_count',\n",
       "       'availability_365'],\n",
       "      dtype='object')"
      ]
     },
     "execution_count": 13,
     "metadata": {},
     "output_type": "execute_result"
    }
   ],
   "source": [
    "air_df.columns"
   ]
  },
  {
   "cell_type": "code",
   "execution_count": 14,
   "id": "c0b1635d",
   "metadata": {},
   "outputs": [],
   "source": [
    "# Check shape and length of data"
   ]
  },
  {
   "cell_type": "code",
   "execution_count": 15,
   "id": "e6d8737e",
   "metadata": {},
   "outputs": [
    {
     "data": {
      "text/plain": [
       "((19618, 16), 19618)"
      ]
     },
     "execution_count": 15,
     "metadata": {},
     "output_type": "execute_result"
    }
   ],
   "source": [
    "air_df.shape, len(air_df)"
   ]
  },
  {
   "cell_type": "code",
   "execution_count": 16,
   "id": "9db5d6d5",
   "metadata": {},
   "outputs": [],
   "source": [
    "# Show the description summary for numerical and categorical values"
   ]
  },
  {
   "cell_type": "code",
   "execution_count": 17,
   "id": "dfdfef12",
   "metadata": {},
   "outputs": [
    {
     "data": {
      "text/html": [
       "<div>\n",
       "<style scoped>\n",
       "    .dataframe tbody tr th:only-of-type {\n",
       "        vertical-align: middle;\n",
       "    }\n",
       "\n",
       "    .dataframe tbody tr th {\n",
       "        vertical-align: top;\n",
       "    }\n",
       "\n",
       "    .dataframe thead th {\n",
       "        text-align: right;\n",
       "    }\n",
       "</style>\n",
       "<table border=\"1\" class=\"dataframe\">\n",
       "  <thead>\n",
       "    <tr style=\"text-align: right;\">\n",
       "      <th></th>\n",
       "      <th>id</th>\n",
       "      <th>host_id</th>\n",
       "      <th>latitude</th>\n",
       "      <th>longitude</th>\n",
       "      <th>price</th>\n",
       "      <th>minimum_nights</th>\n",
       "      <th>number_of_reviews</th>\n",
       "      <th>reviews_per_month</th>\n",
       "      <th>calculated_host_listings_count</th>\n",
       "      <th>availability_365</th>\n",
       "    </tr>\n",
       "  </thead>\n",
       "  <tbody>\n",
       "    <tr>\n",
       "      <th>count</th>\n",
       "      <td>1.961800e+04</td>\n",
       "      <td>1.961800e+04</td>\n",
       "      <td>19618.000000</td>\n",
       "      <td>19618.000000</td>\n",
       "      <td>19618.000000</td>\n",
       "      <td>19618.000000</td>\n",
       "      <td>19618.000000</td>\n",
       "      <td>13981.000000</td>\n",
       "      <td>19618.000000</td>\n",
       "      <td>19618.000000</td>\n",
       "    </tr>\n",
       "    <tr>\n",
       "      <th>mean</th>\n",
       "      <td>2.912200e+07</td>\n",
       "      <td>1.312165e+08</td>\n",
       "      <td>40.420984</td>\n",
       "      <td>-3.694040</td>\n",
       "      <td>129.271740</td>\n",
       "      <td>6.586196</td>\n",
       "      <td>31.858803</td>\n",
       "      <td>1.125958</td>\n",
       "      <td>10.229177</td>\n",
       "      <td>159.098328</td>\n",
       "    </tr>\n",
       "    <tr>\n",
       "      <th>std</th>\n",
       "      <td>1.351839e+07</td>\n",
       "      <td>1.166790e+08</td>\n",
       "      <td>0.022627</td>\n",
       "      <td>0.028671</td>\n",
       "      <td>484.143545</td>\n",
       "      <td>33.286582</td>\n",
       "      <td>63.938997</td>\n",
       "      <td>1.348235</td>\n",
       "      <td>23.546472</td>\n",
       "      <td>144.252803</td>\n",
       "    </tr>\n",
       "    <tr>\n",
       "      <th>min</th>\n",
       "      <td>6.369000e+03</td>\n",
       "      <td>7.952000e+03</td>\n",
       "      <td>40.332210</td>\n",
       "      <td>-3.863910</td>\n",
       "      <td>0.000000</td>\n",
       "      <td>1.000000</td>\n",
       "      <td>0.000000</td>\n",
       "      <td>0.010000</td>\n",
       "      <td>1.000000</td>\n",
       "      <td>0.000000</td>\n",
       "    </tr>\n",
       "    <tr>\n",
       "      <th>25%</th>\n",
       "      <td>1.903424e+07</td>\n",
       "      <td>2.765313e+07</td>\n",
       "      <td>40.409393</td>\n",
       "      <td>-3.707700</td>\n",
       "      <td>35.000000</td>\n",
       "      <td>1.000000</td>\n",
       "      <td>0.000000</td>\n",
       "      <td>0.170000</td>\n",
       "      <td>1.000000</td>\n",
       "      <td>0.000000</td>\n",
       "    </tr>\n",
       "    <tr>\n",
       "      <th>50%</th>\n",
       "      <td>3.187506e+07</td>\n",
       "      <td>9.901898e+07</td>\n",
       "      <td>40.419735</td>\n",
       "      <td>-3.701120</td>\n",
       "      <td>58.000000</td>\n",
       "      <td>2.000000</td>\n",
       "      <td>4.000000</td>\n",
       "      <td>0.590000</td>\n",
       "      <td>2.000000</td>\n",
       "      <td>126.000000</td>\n",
       "    </tr>\n",
       "    <tr>\n",
       "      <th>75%</th>\n",
       "      <td>4.090994e+07</td>\n",
       "      <td>2.256898e+08</td>\n",
       "      <td>40.430290</td>\n",
       "      <td>-3.685420</td>\n",
       "      <td>100.000000</td>\n",
       "      <td>3.000000</td>\n",
       "      <td>31.000000</td>\n",
       "      <td>1.630000</td>\n",
       "      <td>6.000000</td>\n",
       "      <td>320.000000</td>\n",
       "    </tr>\n",
       "    <tr>\n",
       "      <th>max</th>\n",
       "      <td>4.918779e+07</td>\n",
       "      <td>3.964281e+08</td>\n",
       "      <td>40.562740</td>\n",
       "      <td>-3.531900</td>\n",
       "      <td>9999.000000</td>\n",
       "      <td>1125.000000</td>\n",
       "      <td>706.000000</td>\n",
       "      <td>16.220000</td>\n",
       "      <td>163.000000</td>\n",
       "      <td>365.000000</td>\n",
       "    </tr>\n",
       "  </tbody>\n",
       "</table>\n",
       "</div>"
      ],
      "text/plain": [
       "                 id       host_id      latitude     longitude         price   \n",
       "count  1.961800e+04  1.961800e+04  19618.000000  19618.000000  19618.000000  \\\n",
       "mean   2.912200e+07  1.312165e+08     40.420984     -3.694040    129.271740   \n",
       "std    1.351839e+07  1.166790e+08      0.022627      0.028671    484.143545   \n",
       "min    6.369000e+03  7.952000e+03     40.332210     -3.863910      0.000000   \n",
       "25%    1.903424e+07  2.765313e+07     40.409393     -3.707700     35.000000   \n",
       "50%    3.187506e+07  9.901898e+07     40.419735     -3.701120     58.000000   \n",
       "75%    4.090994e+07  2.256898e+08     40.430290     -3.685420    100.000000   \n",
       "max    4.918779e+07  3.964281e+08     40.562740     -3.531900   9999.000000   \n",
       "\n",
       "       minimum_nights  number_of_reviews  reviews_per_month   \n",
       "count    19618.000000       19618.000000       13981.000000  \\\n",
       "mean         6.586196          31.858803           1.125958   \n",
       "std         33.286582          63.938997           1.348235   \n",
       "min          1.000000           0.000000           0.010000   \n",
       "25%          1.000000           0.000000           0.170000   \n",
       "50%          2.000000           4.000000           0.590000   \n",
       "75%          3.000000          31.000000           1.630000   \n",
       "max       1125.000000         706.000000          16.220000   \n",
       "\n",
       "       calculated_host_listings_count  availability_365  \n",
       "count                    19618.000000      19618.000000  \n",
       "mean                        10.229177        159.098328  \n",
       "std                         23.546472        144.252803  \n",
       "min                          1.000000          0.000000  \n",
       "25%                          1.000000          0.000000  \n",
       "50%                          2.000000        126.000000  \n",
       "75%                          6.000000        320.000000  \n",
       "max                        163.000000        365.000000  "
      ]
     },
     "execution_count": 17,
     "metadata": {},
     "output_type": "execute_result"
    }
   ],
   "source": [
    "air_df.describe()"
   ]
  },
  {
   "cell_type": "code",
   "execution_count": 18,
   "id": "efc6cb85",
   "metadata": {},
   "outputs": [
    {
     "data": {
      "text/html": [
       "<div>\n",
       "<style scoped>\n",
       "    .dataframe tbody tr th:only-of-type {\n",
       "        vertical-align: middle;\n",
       "    }\n",
       "\n",
       "    .dataframe tbody tr th {\n",
       "        vertical-align: top;\n",
       "    }\n",
       "\n",
       "    .dataframe thead th {\n",
       "        text-align: right;\n",
       "    }\n",
       "</style>\n",
       "<table border=\"1\" class=\"dataframe\">\n",
       "  <thead>\n",
       "    <tr style=\"text-align: right;\">\n",
       "      <th></th>\n",
       "      <th>name</th>\n",
       "      <th>host_name</th>\n",
       "      <th>neighbourhood_group</th>\n",
       "      <th>neighbourhood</th>\n",
       "      <th>room_type</th>\n",
       "      <th>last_review</th>\n",
       "    </tr>\n",
       "  </thead>\n",
       "  <tbody>\n",
       "    <tr>\n",
       "      <th>count</th>\n",
       "      <td>19615</td>\n",
       "      <td>19091</td>\n",
       "      <td>19618</td>\n",
       "      <td>19618</td>\n",
       "      <td>19618</td>\n",
       "      <td>13981</td>\n",
       "    </tr>\n",
       "    <tr>\n",
       "      <th>unique</th>\n",
       "      <td>18793</td>\n",
       "      <td>3900</td>\n",
       "      <td>21</td>\n",
       "      <td>128</td>\n",
       "      <td>4</td>\n",
       "      <td>1590</td>\n",
       "    </tr>\n",
       "    <tr>\n",
       "      <th>top</th>\n",
       "      <td>Habitación privada</td>\n",
       "      <td>Daniel</td>\n",
       "      <td>Centro</td>\n",
       "      <td>Embajadores</td>\n",
       "      <td>Entire home/apt</td>\n",
       "      <td>2020-03-01</td>\n",
       "    </tr>\n",
       "    <tr>\n",
       "      <th>freq</th>\n",
       "      <td>22</td>\n",
       "      <td>255</td>\n",
       "      <td>8649</td>\n",
       "      <td>2318</td>\n",
       "      <td>11314</td>\n",
       "      <td>359</td>\n",
       "    </tr>\n",
       "  </tbody>\n",
       "</table>\n",
       "</div>"
      ],
      "text/plain": [
       "                      name host_name neighbourhood_group neighbourhood   \n",
       "count                19615     19091               19618         19618  \\\n",
       "unique               18793      3900                  21           128   \n",
       "top     Habitación privada    Daniel              Centro   Embajadores   \n",
       "freq                    22       255                8649          2318   \n",
       "\n",
       "              room_type last_review  \n",
       "count             19618       13981  \n",
       "unique                4        1590  \n",
       "top     Entire home/apt  2020-03-01  \n",
       "freq              11314         359  "
      ]
     },
     "execution_count": 18,
     "metadata": {},
     "output_type": "execute_result"
    }
   ],
   "source": [
    "air_df.describe(include='O')"
   ]
  },
  {
   "cell_type": "code",
   "execution_count": 19,
   "id": "5b04468b",
   "metadata": {},
   "outputs": [
    {
     "data": {
      "text/html": [
       "<div>\n",
       "<style scoped>\n",
       "    .dataframe tbody tr th:only-of-type {\n",
       "        vertical-align: middle;\n",
       "    }\n",
       "\n",
       "    .dataframe tbody tr th {\n",
       "        vertical-align: top;\n",
       "    }\n",
       "\n",
       "    .dataframe thead th {\n",
       "        text-align: right;\n",
       "    }\n",
       "</style>\n",
       "<table border=\"1\" class=\"dataframe\">\n",
       "  <thead>\n",
       "    <tr style=\"text-align: right;\">\n",
       "      <th></th>\n",
       "      <th>id</th>\n",
       "      <th>name</th>\n",
       "      <th>host_id</th>\n",
       "      <th>host_name</th>\n",
       "      <th>neighbourhood_group</th>\n",
       "      <th>neighbourhood</th>\n",
       "      <th>latitude</th>\n",
       "      <th>longitude</th>\n",
       "      <th>room_type</th>\n",
       "      <th>price</th>\n",
       "      <th>minimum_nights</th>\n",
       "      <th>number_of_reviews</th>\n",
       "      <th>last_review</th>\n",
       "      <th>reviews_per_month</th>\n",
       "      <th>calculated_host_listings_count</th>\n",
       "      <th>availability_365</th>\n",
       "    </tr>\n",
       "  </thead>\n",
       "  <tbody>\n",
       "    <tr>\n",
       "      <th>count</th>\n",
       "      <td>1.961800e+04</td>\n",
       "      <td>19615</td>\n",
       "      <td>1.961800e+04</td>\n",
       "      <td>19091</td>\n",
       "      <td>19618</td>\n",
       "      <td>19618</td>\n",
       "      <td>19618.000000</td>\n",
       "      <td>19618.000000</td>\n",
       "      <td>19618</td>\n",
       "      <td>19618.000000</td>\n",
       "      <td>19618.000000</td>\n",
       "      <td>19618.000000</td>\n",
       "      <td>13981</td>\n",
       "      <td>13981.000000</td>\n",
       "      <td>19618.000000</td>\n",
       "      <td>19618.000000</td>\n",
       "    </tr>\n",
       "    <tr>\n",
       "      <th>unique</th>\n",
       "      <td>NaN</td>\n",
       "      <td>18793</td>\n",
       "      <td>NaN</td>\n",
       "      <td>3900</td>\n",
       "      <td>21</td>\n",
       "      <td>128</td>\n",
       "      <td>NaN</td>\n",
       "      <td>NaN</td>\n",
       "      <td>4</td>\n",
       "      <td>NaN</td>\n",
       "      <td>NaN</td>\n",
       "      <td>NaN</td>\n",
       "      <td>1590</td>\n",
       "      <td>NaN</td>\n",
       "      <td>NaN</td>\n",
       "      <td>NaN</td>\n",
       "    </tr>\n",
       "    <tr>\n",
       "      <th>top</th>\n",
       "      <td>NaN</td>\n",
       "      <td>Habitación privada</td>\n",
       "      <td>NaN</td>\n",
       "      <td>Daniel</td>\n",
       "      <td>Centro</td>\n",
       "      <td>Embajadores</td>\n",
       "      <td>NaN</td>\n",
       "      <td>NaN</td>\n",
       "      <td>Entire home/apt</td>\n",
       "      <td>NaN</td>\n",
       "      <td>NaN</td>\n",
       "      <td>NaN</td>\n",
       "      <td>2020-03-01</td>\n",
       "      <td>NaN</td>\n",
       "      <td>NaN</td>\n",
       "      <td>NaN</td>\n",
       "    </tr>\n",
       "    <tr>\n",
       "      <th>freq</th>\n",
       "      <td>NaN</td>\n",
       "      <td>22</td>\n",
       "      <td>NaN</td>\n",
       "      <td>255</td>\n",
       "      <td>8649</td>\n",
       "      <td>2318</td>\n",
       "      <td>NaN</td>\n",
       "      <td>NaN</td>\n",
       "      <td>11314</td>\n",
       "      <td>NaN</td>\n",
       "      <td>NaN</td>\n",
       "      <td>NaN</td>\n",
       "      <td>359</td>\n",
       "      <td>NaN</td>\n",
       "      <td>NaN</td>\n",
       "      <td>NaN</td>\n",
       "    </tr>\n",
       "    <tr>\n",
       "      <th>mean</th>\n",
       "      <td>2.912200e+07</td>\n",
       "      <td>NaN</td>\n",
       "      <td>1.312165e+08</td>\n",
       "      <td>NaN</td>\n",
       "      <td>NaN</td>\n",
       "      <td>NaN</td>\n",
       "      <td>40.420984</td>\n",
       "      <td>-3.694040</td>\n",
       "      <td>NaN</td>\n",
       "      <td>129.271740</td>\n",
       "      <td>6.586196</td>\n",
       "      <td>31.858803</td>\n",
       "      <td>NaN</td>\n",
       "      <td>1.125958</td>\n",
       "      <td>10.229177</td>\n",
       "      <td>159.098328</td>\n",
       "    </tr>\n",
       "    <tr>\n",
       "      <th>std</th>\n",
       "      <td>1.351839e+07</td>\n",
       "      <td>NaN</td>\n",
       "      <td>1.166790e+08</td>\n",
       "      <td>NaN</td>\n",
       "      <td>NaN</td>\n",
       "      <td>NaN</td>\n",
       "      <td>0.022627</td>\n",
       "      <td>0.028671</td>\n",
       "      <td>NaN</td>\n",
       "      <td>484.143545</td>\n",
       "      <td>33.286582</td>\n",
       "      <td>63.938997</td>\n",
       "      <td>NaN</td>\n",
       "      <td>1.348235</td>\n",
       "      <td>23.546472</td>\n",
       "      <td>144.252803</td>\n",
       "    </tr>\n",
       "    <tr>\n",
       "      <th>min</th>\n",
       "      <td>6.369000e+03</td>\n",
       "      <td>NaN</td>\n",
       "      <td>7.952000e+03</td>\n",
       "      <td>NaN</td>\n",
       "      <td>NaN</td>\n",
       "      <td>NaN</td>\n",
       "      <td>40.332210</td>\n",
       "      <td>-3.863910</td>\n",
       "      <td>NaN</td>\n",
       "      <td>0.000000</td>\n",
       "      <td>1.000000</td>\n",
       "      <td>0.000000</td>\n",
       "      <td>NaN</td>\n",
       "      <td>0.010000</td>\n",
       "      <td>1.000000</td>\n",
       "      <td>0.000000</td>\n",
       "    </tr>\n",
       "    <tr>\n",
       "      <th>25%</th>\n",
       "      <td>1.903424e+07</td>\n",
       "      <td>NaN</td>\n",
       "      <td>2.765313e+07</td>\n",
       "      <td>NaN</td>\n",
       "      <td>NaN</td>\n",
       "      <td>NaN</td>\n",
       "      <td>40.409393</td>\n",
       "      <td>-3.707700</td>\n",
       "      <td>NaN</td>\n",
       "      <td>35.000000</td>\n",
       "      <td>1.000000</td>\n",
       "      <td>0.000000</td>\n",
       "      <td>NaN</td>\n",
       "      <td>0.170000</td>\n",
       "      <td>1.000000</td>\n",
       "      <td>0.000000</td>\n",
       "    </tr>\n",
       "    <tr>\n",
       "      <th>50%</th>\n",
       "      <td>3.187506e+07</td>\n",
       "      <td>NaN</td>\n",
       "      <td>9.901898e+07</td>\n",
       "      <td>NaN</td>\n",
       "      <td>NaN</td>\n",
       "      <td>NaN</td>\n",
       "      <td>40.419735</td>\n",
       "      <td>-3.701120</td>\n",
       "      <td>NaN</td>\n",
       "      <td>58.000000</td>\n",
       "      <td>2.000000</td>\n",
       "      <td>4.000000</td>\n",
       "      <td>NaN</td>\n",
       "      <td>0.590000</td>\n",
       "      <td>2.000000</td>\n",
       "      <td>126.000000</td>\n",
       "    </tr>\n",
       "    <tr>\n",
       "      <th>75%</th>\n",
       "      <td>4.090994e+07</td>\n",
       "      <td>NaN</td>\n",
       "      <td>2.256898e+08</td>\n",
       "      <td>NaN</td>\n",
       "      <td>NaN</td>\n",
       "      <td>NaN</td>\n",
       "      <td>40.430290</td>\n",
       "      <td>-3.685420</td>\n",
       "      <td>NaN</td>\n",
       "      <td>100.000000</td>\n",
       "      <td>3.000000</td>\n",
       "      <td>31.000000</td>\n",
       "      <td>NaN</td>\n",
       "      <td>1.630000</td>\n",
       "      <td>6.000000</td>\n",
       "      <td>320.000000</td>\n",
       "    </tr>\n",
       "    <tr>\n",
       "      <th>max</th>\n",
       "      <td>4.918779e+07</td>\n",
       "      <td>NaN</td>\n",
       "      <td>3.964281e+08</td>\n",
       "      <td>NaN</td>\n",
       "      <td>NaN</td>\n",
       "      <td>NaN</td>\n",
       "      <td>40.562740</td>\n",
       "      <td>-3.531900</td>\n",
       "      <td>NaN</td>\n",
       "      <td>9999.000000</td>\n",
       "      <td>1125.000000</td>\n",
       "      <td>706.000000</td>\n",
       "      <td>NaN</td>\n",
       "      <td>16.220000</td>\n",
       "      <td>163.000000</td>\n",
       "      <td>365.000000</td>\n",
       "    </tr>\n",
       "  </tbody>\n",
       "</table>\n",
       "</div>"
      ],
      "text/plain": [
       "                  id                name       host_id host_name   \n",
       "count   1.961800e+04               19615  1.961800e+04     19091  \\\n",
       "unique           NaN               18793           NaN      3900   \n",
       "top              NaN  Habitación privada           NaN    Daniel   \n",
       "freq             NaN                  22           NaN       255   \n",
       "mean    2.912200e+07                 NaN  1.312165e+08       NaN   \n",
       "std     1.351839e+07                 NaN  1.166790e+08       NaN   \n",
       "min     6.369000e+03                 NaN  7.952000e+03       NaN   \n",
       "25%     1.903424e+07                 NaN  2.765313e+07       NaN   \n",
       "50%     3.187506e+07                 NaN  9.901898e+07       NaN   \n",
       "75%     4.090994e+07                 NaN  2.256898e+08       NaN   \n",
       "max     4.918779e+07                 NaN  3.964281e+08       NaN   \n",
       "\n",
       "       neighbourhood_group neighbourhood      latitude     longitude   \n",
       "count                19618         19618  19618.000000  19618.000000  \\\n",
       "unique                  21           128           NaN           NaN   \n",
       "top                 Centro   Embajadores           NaN           NaN   \n",
       "freq                  8649          2318           NaN           NaN   \n",
       "mean                   NaN           NaN     40.420984     -3.694040   \n",
       "std                    NaN           NaN      0.022627      0.028671   \n",
       "min                    NaN           NaN     40.332210     -3.863910   \n",
       "25%                    NaN           NaN     40.409393     -3.707700   \n",
       "50%                    NaN           NaN     40.419735     -3.701120   \n",
       "75%                    NaN           NaN     40.430290     -3.685420   \n",
       "max                    NaN           NaN     40.562740     -3.531900   \n",
       "\n",
       "              room_type         price  minimum_nights  number_of_reviews   \n",
       "count             19618  19618.000000    19618.000000       19618.000000  \\\n",
       "unique                4           NaN             NaN                NaN   \n",
       "top     Entire home/apt           NaN             NaN                NaN   \n",
       "freq              11314           NaN             NaN                NaN   \n",
       "mean                NaN    129.271740        6.586196          31.858803   \n",
       "std                 NaN    484.143545       33.286582          63.938997   \n",
       "min                 NaN      0.000000        1.000000           0.000000   \n",
       "25%                 NaN     35.000000        1.000000           0.000000   \n",
       "50%                 NaN     58.000000        2.000000           4.000000   \n",
       "75%                 NaN    100.000000        3.000000          31.000000   \n",
       "max                 NaN   9999.000000     1125.000000         706.000000   \n",
       "\n",
       "       last_review  reviews_per_month  calculated_host_listings_count   \n",
       "count        13981       13981.000000                    19618.000000  \\\n",
       "unique        1590                NaN                             NaN   \n",
       "top     2020-03-01                NaN                             NaN   \n",
       "freq           359                NaN                             NaN   \n",
       "mean           NaN           1.125958                       10.229177   \n",
       "std            NaN           1.348235                       23.546472   \n",
       "min            NaN           0.010000                        1.000000   \n",
       "25%            NaN           0.170000                        1.000000   \n",
       "50%            NaN           0.590000                        2.000000   \n",
       "75%            NaN           1.630000                        6.000000   \n",
       "max            NaN          16.220000                      163.000000   \n",
       "\n",
       "        availability_365  \n",
       "count       19618.000000  \n",
       "unique               NaN  \n",
       "top                  NaN  \n",
       "freq                 NaN  \n",
       "mean          159.098328  \n",
       "std           144.252803  \n",
       "min             0.000000  \n",
       "25%             0.000000  \n",
       "50%           126.000000  \n",
       "75%           320.000000  \n",
       "max           365.000000  "
      ]
     },
     "execution_count": 19,
     "metadata": {},
     "output_type": "execute_result"
    }
   ],
   "source": [
    "air_df.describe(include='all')"
   ]
  },
  {
   "cell_type": "markdown",
   "id": "22b9b2fd",
   "metadata": {},
   "source": [
    "## Part II) Exploratory Data Analysis"
   ]
  },
  {
   "cell_type": "markdown",
   "id": "bd17dfe1",
   "metadata": {},
   "source": [
    "## Part II) A) Do Numerical Analysis of Columns"
   ]
  },
  {
   "cell_type": "markdown",
   "id": "3228f16d",
   "metadata": {},
   "source": [
    "### Analysis of price column"
   ]
  },
  {
   "cell_type": "code",
   "execution_count": 20,
   "id": "8e4f67a2",
   "metadata": {},
   "outputs": [
    {
     "data": {
      "text/html": [
       "<div>\n",
       "<style scoped>\n",
       "    .dataframe tbody tr th:only-of-type {\n",
       "        vertical-align: middle;\n",
       "    }\n",
       "\n",
       "    .dataframe tbody tr th {\n",
       "        vertical-align: top;\n",
       "    }\n",
       "\n",
       "    .dataframe thead th {\n",
       "        text-align: right;\n",
       "    }\n",
       "</style>\n",
       "<table border=\"1\" class=\"dataframe\">\n",
       "  <thead>\n",
       "    <tr style=\"text-align: right;\">\n",
       "      <th></th>\n",
       "      <th>id</th>\n",
       "      <th>name</th>\n",
       "      <th>host_id</th>\n",
       "      <th>host_name</th>\n",
       "      <th>neighbourhood_group</th>\n",
       "      <th>neighbourhood</th>\n",
       "      <th>latitude</th>\n",
       "      <th>longitude</th>\n",
       "      <th>room_type</th>\n",
       "      <th>price</th>\n",
       "      <th>minimum_nights</th>\n",
       "      <th>number_of_reviews</th>\n",
       "      <th>last_review</th>\n",
       "      <th>reviews_per_month</th>\n",
       "      <th>calculated_host_listings_count</th>\n",
       "      <th>availability_365</th>\n",
       "    </tr>\n",
       "  </thead>\n",
       "  <tbody>\n",
       "    <tr>\n",
       "      <th>0</th>\n",
       "      <td>6369</td>\n",
       "      <td>Rooftop terrace room ,  ensuite bathroom</td>\n",
       "      <td>13660</td>\n",
       "      <td>Simon</td>\n",
       "      <td>Chamartín</td>\n",
       "      <td>Hispanoamérica</td>\n",
       "      <td>40.45724</td>\n",
       "      <td>-3.67688</td>\n",
       "      <td>Private room</td>\n",
       "      <td>60</td>\n",
       "      <td>1</td>\n",
       "      <td>78</td>\n",
       "      <td>2020-09-20</td>\n",
       "      <td>0.58</td>\n",
       "      <td>1</td>\n",
       "      <td>180</td>\n",
       "    </tr>\n",
       "    <tr>\n",
       "      <th>1</th>\n",
       "      <td>21853</td>\n",
       "      <td>Bright and airy room</td>\n",
       "      <td>83531</td>\n",
       "      <td>Abdel</td>\n",
       "      <td>Latina</td>\n",
       "      <td>Cármenes</td>\n",
       "      <td>40.40381</td>\n",
       "      <td>-3.74130</td>\n",
       "      <td>Private room</td>\n",
       "      <td>31</td>\n",
       "      <td>4</td>\n",
       "      <td>33</td>\n",
       "      <td>2018-07-15</td>\n",
       "      <td>0.42</td>\n",
       "      <td>2</td>\n",
       "      <td>364</td>\n",
       "    </tr>\n",
       "    <tr>\n",
       "      <th>2</th>\n",
       "      <td>23001</td>\n",
       "      <td>Apartmento Arganzuela- Madrid Rio</td>\n",
       "      <td>82175</td>\n",
       "      <td>Jesus</td>\n",
       "      <td>Arganzuela</td>\n",
       "      <td>Legazpi</td>\n",
       "      <td>40.38840</td>\n",
       "      <td>-3.69511</td>\n",
       "      <td>Entire home/apt</td>\n",
       "      <td>50</td>\n",
       "      <td>15</td>\n",
       "      <td>0</td>\n",
       "      <td>NaN</td>\n",
       "      <td>NaN</td>\n",
       "      <td>7</td>\n",
       "      <td>1</td>\n",
       "    </tr>\n",
       "    <tr>\n",
       "      <th>3</th>\n",
       "      <td>24805</td>\n",
       "      <td>Gran Via Studio Madrid</td>\n",
       "      <td>346366726</td>\n",
       "      <td>A</td>\n",
       "      <td>Centro</td>\n",
       "      <td>Universidad</td>\n",
       "      <td>40.42183</td>\n",
       "      <td>-3.70529</td>\n",
       "      <td>Entire home/apt</td>\n",
       "      <td>92</td>\n",
       "      <td>5</td>\n",
       "      <td>10</td>\n",
       "      <td>2020-03-01</td>\n",
       "      <td>0.13</td>\n",
       "      <td>1</td>\n",
       "      <td>72</td>\n",
       "    </tr>\n",
       "    <tr>\n",
       "      <th>4</th>\n",
       "      <td>26825</td>\n",
       "      <td>Single Room whith private Bathroom</td>\n",
       "      <td>114340</td>\n",
       "      <td>Agustina</td>\n",
       "      <td>Arganzuela</td>\n",
       "      <td>Legazpi</td>\n",
       "      <td>40.38975</td>\n",
       "      <td>-3.69018</td>\n",
       "      <td>Private room</td>\n",
       "      <td>26</td>\n",
       "      <td>2</td>\n",
       "      <td>149</td>\n",
       "      <td>2020-03-12</td>\n",
       "      <td>1.12</td>\n",
       "      <td>1</td>\n",
       "      <td>365</td>\n",
       "    </tr>\n",
       "  </tbody>\n",
       "</table>\n",
       "</div>"
      ],
      "text/plain": [
       "      id                                      name    host_id host_name   \n",
       "0   6369  Rooftop terrace room ,  ensuite bathroom      13660     Simon  \\\n",
       "1  21853                      Bright and airy room      83531     Abdel   \n",
       "2  23001         Apartmento Arganzuela- Madrid Rio      82175     Jesus   \n",
       "3  24805                    Gran Via Studio Madrid  346366726         A   \n",
       "4  26825        Single Room whith private Bathroom     114340  Agustina   \n",
       "\n",
       "  neighbourhood_group   neighbourhood  latitude  longitude        room_type   \n",
       "0           Chamartín  Hispanoamérica  40.45724   -3.67688     Private room  \\\n",
       "1              Latina        Cármenes  40.40381   -3.74130     Private room   \n",
       "2          Arganzuela         Legazpi  40.38840   -3.69511  Entire home/apt   \n",
       "3              Centro     Universidad  40.42183   -3.70529  Entire home/apt   \n",
       "4          Arganzuela         Legazpi  40.38975   -3.69018     Private room   \n",
       "\n",
       "   price  minimum_nights  number_of_reviews last_review  reviews_per_month   \n",
       "0     60               1                 78  2020-09-20               0.58  \\\n",
       "1     31               4                 33  2018-07-15               0.42   \n",
       "2     50              15                  0         NaN                NaN   \n",
       "3     92               5                 10  2020-03-01               0.13   \n",
       "4     26               2                149  2020-03-12               1.12   \n",
       "\n",
       "   calculated_host_listings_count  availability_365  \n",
       "0                               1               180  \n",
       "1                               2               364  \n",
       "2                               7                 1  \n",
       "3                               1                72  \n",
       "4                               1               365  "
      ]
     },
     "execution_count": 20,
     "metadata": {},
     "output_type": "execute_result"
    }
   ],
   "source": [
    "air_df.head()"
   ]
  },
  {
   "cell_type": "code",
   "execution_count": 21,
   "id": "261c5021",
   "metadata": {},
   "outputs": [
    {
     "data": {
      "text/plain": [
       "0"
      ]
     },
     "execution_count": 21,
     "metadata": {},
     "output_type": "execute_result"
    }
   ],
   "source": [
    "air_df['price'].min()"
   ]
  },
  {
   "cell_type": "code",
   "execution_count": 22,
   "id": "4f19cb54",
   "metadata": {},
   "outputs": [
    {
     "data": {
      "text/plain": [
       "9999"
      ]
     },
     "execution_count": 22,
     "metadata": {},
     "output_type": "execute_result"
    }
   ],
   "source": [
    "air_df['price'].max()"
   ]
  },
  {
   "cell_type": "code",
   "execution_count": 23,
   "id": "84ad0ce3",
   "metadata": {},
   "outputs": [
    {
     "data": {
      "text/plain": [
       "129.27174023855642"
      ]
     },
     "execution_count": 23,
     "metadata": {},
     "output_type": "execute_result"
    }
   ],
   "source": [
    "air_df['price'].mean()"
   ]
  },
  {
   "cell_type": "code",
   "execution_count": 24,
   "id": "91e743c0",
   "metadata": {},
   "outputs": [
    {
     "data": {
      "text/plain": [
       "58.0"
      ]
     },
     "execution_count": 24,
     "metadata": {},
     "output_type": "execute_result"
    }
   ],
   "source": [
    "air_df['price'].median()"
   ]
  },
  {
   "cell_type": "code",
   "execution_count": 25,
   "id": "6f3da923",
   "metadata": {},
   "outputs": [
    {
     "data": {
      "text/plain": [
       "484.143544651945"
      ]
     },
     "execution_count": 25,
     "metadata": {},
     "output_type": "execute_result"
    }
   ],
   "source": [
    "air_df['price'].std()"
   ]
  },
  {
   "cell_type": "code",
   "execution_count": 26,
   "id": "864f7ed1",
   "metadata": {},
   "outputs": [
    {
     "data": {
      "text/plain": [
       "234394.97182814986"
      ]
     },
     "execution_count": 26,
     "metadata": {},
     "output_type": "execute_result"
    }
   ],
   "source": [
    "air_df['price'].var()"
   ]
  },
  {
   "cell_type": "code",
   "execution_count": 27,
   "id": "5cf7c34d",
   "metadata": {},
   "outputs": [
    {
     "data": {
      "text/plain": [
       "15.448872477202384"
      ]
     },
     "execution_count": 27,
     "metadata": {},
     "output_type": "execute_result"
    }
   ],
   "source": [
    "air_df['price'].skew()"
   ]
  },
  {
   "cell_type": "markdown",
   "id": "b3bd99a0",
   "metadata": {},
   "source": [
    "#### What is the range of price?"
   ]
  },
  {
   "cell_type": "code",
   "execution_count": 28,
   "id": "e081ec04",
   "metadata": {},
   "outputs": [],
   "source": [
    "# Histogram plot"
   ]
  },
  {
   "cell_type": "code",
   "execution_count": 29,
   "id": "e1034a36",
   "metadata": {},
   "outputs": [
    {
     "data": {
      "image/png": "[encoded data removed]",
      "text/plain": [
       "<Figure size 300x300 with 1 Axes>"
      ]
     },
     "metadata": {},
     "output_type": "display_data"
    }
   ],
   "source": [
    "plt.figure(figsize=(3,3))\n",
    "sns.histplot(air_df['price'], color='blue')\n",
    "plt.title('Histogram plot for Price column')\n",
    "plt.show()"
   ]
  },
  {
   "cell_type": "code",
   "execution_count": 30,
   "id": "47093443",
   "metadata": {},
   "outputs": [],
   "source": [
    "# Distribution plot"
   ]
  },
  {
   "cell_type": "code",
   "execution_count": 31,
   "id": "a20c5ead",
   "metadata": {},
   "outputs": [
    {
     "data": {
      "text/plain": [
       "<Figure size 300x300 with 0 Axes>"
      ]
     },
     "metadata": {},
     "output_type": "display_data"
    },
    {
     "data": {
      "image/png": "[encoded data removed]",
      "text/plain": [
       "<Figure size 500x500 with 1 Axes>"
      ]
     },
     "metadata": {},
     "output_type": "display_data"
    }
   ],
   "source": [
    "plt.figure(figsize=(3,3))\n",
    "sns.displot(air_df['price'],kind='kde', color='green')\n",
    "plt.title('Distribution plot for Price column')\n",
    "plt.show()"
   ]
  },
  {
   "cell_type": "markdown",
   "id": "2d72d33f",
   "metadata": {},
   "source": [
    "#### Are there any extreme temperature points in data?"
   ]
  },
  {
   "cell_type": "code",
   "execution_count": 32,
   "id": "c24c0df4",
   "metadata": {},
   "outputs": [
    {
     "data": {
      "text/plain": [
       "(21.0, 35.0, 58.0, 100.0, 191.0)"
      ]
     },
     "execution_count": 32,
     "metadata": {},
     "output_type": "execute_result"
    }
   ],
   "source": [
    "air_df['price'].quantile(0.10),air_df['price'].quantile(0.25), air_df['price'].quantile(0.50), air_df['price'].quantile(0.75), air_df['price'].quantile(0.90)"
   ]
  },
  {
   "cell_type": "code",
   "execution_count": 33,
   "id": "7cc05702",
   "metadata": {},
   "outputs": [],
   "source": [
    "# Box plot"
   ]
  },
  {
   "cell_type": "code",
   "execution_count": 34,
   "id": "08b274a1",
   "metadata": {},
   "outputs": [
    {
     "data": {
      "image/png": "[encoded data removed]",
      "text/plain": [
       "<Figure size 500x500 with 1 Axes>"
      ]
     },
     "metadata": {},
     "output_type": "display_data"
    }
   ],
   "source": [
    "plt.figure(figsize=(5,5))\n",
    "sns.boxplot(air_df['price'],orient='h', color='yellow')\n",
    "plt.title('Box plot for Price column')\n",
    "plt.show()"
   ]
  },
  {
   "cell_type": "code",
   "execution_count": 35,
   "id": "10ba6987",
   "metadata": {},
   "outputs": [],
   "source": [
    "# Conclusion"
   ]
  },
  {
   "cell_type": "markdown",
   "id": "74e6b006",
   "metadata": {},
   "source": [
    "**Price** Column has asymmetrical distribution with skewness of 15.44 which is not in between -0.5 and 0.5 . \n",
    "\n",
    "- Price ranges from minimum of 0 to maximum of 9999.\n",
    "- It's mean value is 129.27 and median is 58.\n",
    "- Standard deviation for price column is 484.14 and variance for this column is 234394.97.\n",
    "- Most of the price ranges from 0 to 1700.\n",
    "\n",
    "- 10% of price range is 21 and below.\n",
    "- 25% of price range is 35 and below.\n",
    "- 50% of price range is 58 and below.\n",
    "- 75% of price range is 100 and below.\n",
    "- 90% of price range is 191 and below.\n",
    "- Price column has many extreme values.\n",
    "\n",
    "Price column could be a good predictor for gaining information about hosts and it's relation with other columns should be explored further."
   ]
  },
  {
   "cell_type": "markdown",
   "id": "398d961a",
   "metadata": {},
   "source": [
    "## Part II) B) Do Categorical  Analysis of Columns"
   ]
  },
  {
   "cell_type": "code",
   "execution_count": 36,
   "id": "c0c510f7",
   "metadata": {},
   "outputs": [],
   "source": [
    "# Count values"
   ]
  },
  {
   "cell_type": "code",
   "execution_count": 37,
   "id": "da8a7f43",
   "metadata": {},
   "outputs": [
    {
     "data": {
      "text/plain": [
       "room_type\n",
       "Hotel room           166\n",
       "Shared room          329\n",
       "Private room        7809\n",
       "Entire home/apt    11314\n",
       "Name: count, dtype: int64"
      ]
     },
     "execution_count": 37,
     "metadata": {},
     "output_type": "execute_result"
    }
   ],
   "source": [
    "air_df['room_type'].value_counts().sort_values(ascending=True)"
   ]
  },
  {
   "cell_type": "code",
   "execution_count": 38,
   "id": "0ab7ba6e",
   "metadata": {},
   "outputs": [],
   "source": [
    "# Percentage values"
   ]
  },
  {
   "cell_type": "code",
   "execution_count": 39,
   "id": "9cba85f0",
   "metadata": {},
   "outputs": [
    {
     "data": {
      "text/plain": [
       "room_type\n",
       "Entire home/apt    57.671526\n",
       "Private room       39.805281\n",
       "Shared room         1.677031\n",
       "Hotel room          0.846162\n",
       "Name: proportion, dtype: float64"
      ]
     },
     "execution_count": 39,
     "metadata": {},
     "output_type": "execute_result"
    }
   ],
   "source": [
    "air_df['room_type'].value_counts(normalize=True)*100"
   ]
  },
  {
   "cell_type": "code",
   "execution_count": 40,
   "id": "1e689bc7",
   "metadata": {},
   "outputs": [],
   "source": [
    "# Piechart"
   ]
  },
  {
   "cell_type": "code",
   "execution_count": 41,
   "id": "64f6e348",
   "metadata": {},
   "outputs": [
    {
     "data": {
      "image/png": "[encoded data removed]",
      "text/plain": [
       "<Figure size 500x500 with 1 Axes>"
      ]
     },
     "metadata": {},
     "output_type": "display_data"
    }
   ],
   "source": [
    "plt.figure(figsize=(5,5))\n",
    "sizes=(57.67, 39.8, 1.67, 0.84)\n",
    "plt.pie(sizes, labels=['Entire home/apt', 'Private room', 'Shared room', 'Hotel room'], autopct='%1.2f%%')\n",
    "plt.legend()\n",
    "plt.title('Piechart displaying different room types')\n",
    "plt.show()"
   ]
  },
  {
   "cell_type": "code",
   "execution_count": 42,
   "id": "48b9d302",
   "metadata": {},
   "outputs": [],
   "source": [
    "# Countplot"
   ]
  },
  {
   "cell_type": "code",
   "execution_count": 43,
   "id": "0cc9fec8",
   "metadata": {},
   "outputs": [
    {
     "data": {
      "image/png": "[encoded data removed]",
      "text/plain": [
       "<Figure size 600x300 with 1 Axes>"
      ]
     },
     "metadata": {},
     "output_type": "display_data"
    }
   ],
   "source": [
    "plt.figure(figsize=(6,3))\n",
    "sns.countplot(x=air_df['room_type'])\n",
    "plt.title('Count plot displaying different room types')\n",
    "plt.show()"
   ]
  },
  {
   "cell_type": "code",
   "execution_count": 44,
   "id": "ac09badf",
   "metadata": {},
   "outputs": [],
   "source": [
    "# To find no. of unique values"
   ]
  },
  {
   "cell_type": "code",
   "execution_count": 45,
   "id": "f8b0c958",
   "metadata": {},
   "outputs": [
    {
     "data": {
      "text/plain": [
       "4"
      ]
     },
     "execution_count": 45,
     "metadata": {},
     "output_type": "execute_result"
    }
   ],
   "source": [
    "air_df['room_type'].nunique()"
   ]
  },
  {
   "cell_type": "code",
   "execution_count": 46,
   "id": "0dfc0529",
   "metadata": {},
   "outputs": [],
   "source": [
    "# To find what are those unique values"
   ]
  },
  {
   "cell_type": "code",
   "execution_count": 47,
   "id": "1762230e",
   "metadata": {},
   "outputs": [
    {
     "data": {
      "text/plain": [
       "array(['Private room', 'Entire home/apt', 'Shared room', 'Hotel room'],\n",
       "      dtype=object)"
      ]
     },
     "execution_count": 47,
     "metadata": {},
     "output_type": "execute_result"
    }
   ],
   "source": [
    "air_df['room_type'].unique()"
   ]
  },
  {
   "cell_type": "code",
   "execution_count": 48,
   "id": "c6867409",
   "metadata": {},
   "outputs": [],
   "source": [
    "# Wordcloud"
   ]
  },
  {
   "cell_type": "code",
   "execution_count": 49,
   "id": "dce23060",
   "metadata": {},
   "outputs": [
    {
     "data": {
      "image/png": "[encoded data removed]",
      "text/plain": [
       "<Figure size 500x500 with 1 Axes>"
      ]
     },
     "metadata": {},
     "output_type": "display_data"
    }
   ],
   "source": [
    "from wordcloud import WordCloud\n",
    "\n",
    "plt.figure(figsize=(5,5))\n",
    "text=''.join(air_df['room_type'].to_list())\n",
    "wordcloud=WordCloud().generate_from_text(text)\n",
    "\n",
    "plt.imshow(wordcloud, interpolation='bilinear')\n",
    "plt.axis('off')\n",
    "plt.margins(x=0, y=0)\n",
    "plt.show()"
   ]
  },
  {
   "cell_type": "code",
   "execution_count": 50,
   "id": "b20bbb5a",
   "metadata": {},
   "outputs": [],
   "source": [
    "# Conclusion"
   ]
  },
  {
   "cell_type": "markdown",
   "id": "d71c8900",
   "metadata": {},
   "source": [
    "- Here, we have 4 different types of rooms, namely, entire_home/apt. , private room, shared room and hotel room\n",
    "- As their are only 4 types, so this **room_type** column has low cardinality.\n",
    "- Entire home/apt. are in more proportion, i.e., 11314, followed by private rooms, i.e., 7809. Then comes shared rooms which is 329 and lastly hotel rooms which is 166."
   ]
  },
  {
   "cell_type": "markdown",
   "id": "01cdcb46",
   "metadata": {},
   "source": [
    "## Part II) C) Combine Numerical and Categorical columns for analysis"
   ]
  },
  {
   "cell_type": "code",
   "execution_count": 51,
   "id": "201f3d6c",
   "metadata": {},
   "outputs": [],
   "source": [
    "# Correlation of numerical and categorical data"
   ]
  },
  {
   "cell_type": "code",
   "execution_count": 52,
   "id": "11730dac",
   "metadata": {},
   "outputs": [
    {
     "data": {
      "text/html": [
       "<div>\n",
       "<style scoped>\n",
       "    .dataframe tbody tr th:only-of-type {\n",
       "        vertical-align: middle;\n",
       "    }\n",
       "\n",
       "    .dataframe tbody tr th {\n",
       "        vertical-align: top;\n",
       "    }\n",
       "\n",
       "    .dataframe thead th {\n",
       "        text-align: right;\n",
       "    }\n",
       "</style>\n",
       "<table border=\"1\" class=\"dataframe\">\n",
       "  <thead>\n",
       "    <tr style=\"text-align: right;\">\n",
       "      <th></th>\n",
       "      <th>availability_365</th>\n",
       "      <th>price</th>\n",
       "    </tr>\n",
       "  </thead>\n",
       "  <tbody>\n",
       "    <tr>\n",
       "      <th>availability_365</th>\n",
       "      <td>1.000000</td>\n",
       "      <td>-0.012957</td>\n",
       "    </tr>\n",
       "    <tr>\n",
       "      <th>price</th>\n",
       "      <td>-0.012957</td>\n",
       "      <td>1.000000</td>\n",
       "    </tr>\n",
       "  </tbody>\n",
       "</table>\n",
       "</div>"
      ],
      "text/plain": [
       "                  availability_365     price\n",
       "availability_365          1.000000 -0.012957\n",
       "price                    -0.012957  1.000000"
      ]
     },
     "execution_count": 52,
     "metadata": {},
     "output_type": "execute_result"
    }
   ],
   "source": [
    "data=air_df[['availability_365', 'price']].corr()\n",
    "data"
   ]
  },
  {
   "cell_type": "code",
   "execution_count": 53,
   "id": "4889c6df",
   "metadata": {},
   "outputs": [],
   "source": [
    "# Heatmap"
   ]
  },
  {
   "cell_type": "code",
   "execution_count": 54,
   "id": "7c03deb4",
   "metadata": {},
   "outputs": [
    {
     "data": {
      "image/png": "[encoded data removed]",
      "text/plain": [
       "<Figure size 600x300 with 2 Axes>"
      ]
     },
     "metadata": {},
     "output_type": "display_data"
    }
   ],
   "source": [
    "plt.figure(figsize=(6,3))\n",
    "sns.heatmap(data,cmap='RdYlGn',annot=True, linewidth=3)\n",
    "plt.title('Heatmap displaying relation between price & availability of rooms')\n",
    "plt.show()"
   ]
  },
  {
   "cell_type": "code",
   "execution_count": 55,
   "id": "4a6e83ca",
   "metadata": {},
   "outputs": [],
   "source": [
    "# Scatterplot"
   ]
  },
  {
   "cell_type": "code",
   "execution_count": 56,
   "id": "bf79c1e9",
   "metadata": {},
   "outputs": [
    {
     "data": {
      "image/png": "[encoded data removed]",
      "text/plain": [
       "<Figure size 600x300 with 1 Axes>"
      ]
     },
     "metadata": {},
     "output_type": "display_data"
    }
   ],
   "source": [
    "plt.figure(figsize=(6,3))\n",
    "sns.scatterplot(data=air_df, x='availability_365', y='price', color='magenta')\n",
    "plt.title('Scatterplot showing relation between price & availability of rooms')\n",
    "plt.show()"
   ]
  },
  {
   "cell_type": "code",
   "execution_count": 57,
   "id": "023b9399",
   "metadata": {},
   "outputs": [],
   "source": [
    "# Regplot"
   ]
  },
  {
   "cell_type": "code",
   "execution_count": 58,
   "id": "cf5c390a",
   "metadata": {},
   "outputs": [
    {
     "data": {
      "image/png": "[encoded data removed]",
      "text/plain": [
       "<Figure size 600x300 with 1 Axes>"
      ]
     },
     "metadata": {},
     "output_type": "display_data"
    }
   ],
   "source": [
    "plt.figure(figsize=(6,3))\n",
    "sns.regplot(data=air_df, x='availability_365', y='price', scatter_kws={'color':'olive'}, line_kws={'color':'red'})\n",
    "plt.title('Regplot showing relation between price & availability of rooms')\n",
    "plt.show()"
   ]
  },
  {
   "cell_type": "markdown",
   "id": "55d89ae7",
   "metadata": {},
   "source": [
    "# Part III) Data Cleaning"
   ]
  },
  {
   "cell_type": "markdown",
   "id": "0beabc09",
   "metadata": {},
   "source": [
    "## Part III) A) Handling Duplicate data"
   ]
  },
  {
   "cell_type": "code",
   "execution_count": 59,
   "id": "292b1378",
   "metadata": {},
   "outputs": [],
   "source": [
    "# Check shape of original data"
   ]
  },
  {
   "cell_type": "code",
   "execution_count": 60,
   "id": "39c7f6ae",
   "metadata": {},
   "outputs": [
    {
     "data": {
      "text/plain": [
       "(19618, 16)"
      ]
     },
     "execution_count": 60,
     "metadata": {},
     "output_type": "execute_result"
    }
   ],
   "source": [
    "air_df.shape"
   ]
  },
  {
   "cell_type": "code",
   "execution_count": 61,
   "id": "203858a0",
   "metadata": {},
   "outputs": [],
   "source": [
    "# Drop duplicate values and reset your index columns."
   ]
  },
  {
   "cell_type": "code",
   "execution_count": 62,
   "id": "7b19fea5",
   "metadata": {},
   "outputs": [],
   "source": [
    "air_df.drop_duplicates(inplace=True, keep='first')"
   ]
  },
  {
   "cell_type": "code",
   "execution_count": 63,
   "id": "70475f51",
   "metadata": {},
   "outputs": [],
   "source": [
    "# Check shape after applying drop duplicates."
   ]
  },
  {
   "cell_type": "code",
   "execution_count": 64,
   "id": "0778b1c9",
   "metadata": {},
   "outputs": [
    {
     "data": {
      "text/plain": [
       "(19618, 16)"
      ]
     },
     "execution_count": 64,
     "metadata": {},
     "output_type": "execute_result"
    }
   ],
   "source": [
    "air_df.shape"
   ]
  },
  {
   "cell_type": "code",
   "execution_count": 65,
   "id": "57037f7c",
   "metadata": {},
   "outputs": [],
   "source": [
    "# Drop unnecessary columns"
   ]
  },
  {
   "cell_type": "code",
   "execution_count": 66,
   "id": "64d548dc",
   "metadata": {},
   "outputs": [
    {
     "data": {
      "text/html": [
       "<div>\n",
       "<style scoped>\n",
       "    .dataframe tbody tr th:only-of-type {\n",
       "        vertical-align: middle;\n",
       "    }\n",
       "\n",
       "    .dataframe tbody tr th {\n",
       "        vertical-align: top;\n",
       "    }\n",
       "\n",
       "    .dataframe thead th {\n",
       "        text-align: right;\n",
       "    }\n",
       "</style>\n",
       "<table border=\"1\" class=\"dataframe\">\n",
       "  <thead>\n",
       "    <tr style=\"text-align: right;\">\n",
       "      <th></th>\n",
       "      <th>id</th>\n",
       "      <th>name</th>\n",
       "      <th>host_id</th>\n",
       "      <th>host_name</th>\n",
       "      <th>neighbourhood_group</th>\n",
       "      <th>neighbourhood</th>\n",
       "      <th>room_type</th>\n",
       "      <th>price</th>\n",
       "      <th>minimum_nights</th>\n",
       "      <th>number_of_reviews</th>\n",
       "      <th>calculated_host_listings_count</th>\n",
       "      <th>availability_365</th>\n",
       "    </tr>\n",
       "  </thead>\n",
       "  <tbody>\n",
       "    <tr>\n",
       "      <th>0</th>\n",
       "      <td>6369</td>\n",
       "      <td>Rooftop terrace room ,  ensuite bathroom</td>\n",
       "      <td>13660</td>\n",
       "      <td>Simon</td>\n",
       "      <td>Chamartín</td>\n",
       "      <td>Hispanoamérica</td>\n",
       "      <td>Private room</td>\n",
       "      <td>60</td>\n",
       "      <td>1</td>\n",
       "      <td>78</td>\n",
       "      <td>1</td>\n",
       "      <td>180</td>\n",
       "    </tr>\n",
       "    <tr>\n",
       "      <th>1</th>\n",
       "      <td>21853</td>\n",
       "      <td>Bright and airy room</td>\n",
       "      <td>83531</td>\n",
       "      <td>Abdel</td>\n",
       "      <td>Latina</td>\n",
       "      <td>Cármenes</td>\n",
       "      <td>Private room</td>\n",
       "      <td>31</td>\n",
       "      <td>4</td>\n",
       "      <td>33</td>\n",
       "      <td>2</td>\n",
       "      <td>364</td>\n",
       "    </tr>\n",
       "    <tr>\n",
       "      <th>2</th>\n",
       "      <td>23001</td>\n",
       "      <td>Apartmento Arganzuela- Madrid Rio</td>\n",
       "      <td>82175</td>\n",
       "      <td>Jesus</td>\n",
       "      <td>Arganzuela</td>\n",
       "      <td>Legazpi</td>\n",
       "      <td>Entire home/apt</td>\n",
       "      <td>50</td>\n",
       "      <td>15</td>\n",
       "      <td>0</td>\n",
       "      <td>7</td>\n",
       "      <td>1</td>\n",
       "    </tr>\n",
       "    <tr>\n",
       "      <th>3</th>\n",
       "      <td>24805</td>\n",
       "      <td>Gran Via Studio Madrid</td>\n",
       "      <td>346366726</td>\n",
       "      <td>A</td>\n",
       "      <td>Centro</td>\n",
       "      <td>Universidad</td>\n",
       "      <td>Entire home/apt</td>\n",
       "      <td>92</td>\n",
       "      <td>5</td>\n",
       "      <td>10</td>\n",
       "      <td>1</td>\n",
       "      <td>72</td>\n",
       "    </tr>\n",
       "    <tr>\n",
       "      <th>4</th>\n",
       "      <td>26825</td>\n",
       "      <td>Single Room whith private Bathroom</td>\n",
       "      <td>114340</td>\n",
       "      <td>Agustina</td>\n",
       "      <td>Arganzuela</td>\n",
       "      <td>Legazpi</td>\n",
       "      <td>Private room</td>\n",
       "      <td>26</td>\n",
       "      <td>2</td>\n",
       "      <td>149</td>\n",
       "      <td>1</td>\n",
       "      <td>365</td>\n",
       "    </tr>\n",
       "    <tr>\n",
       "      <th>...</th>\n",
       "      <td>...</td>\n",
       "      <td>...</td>\n",
       "      <td>...</td>\n",
       "      <td>...</td>\n",
       "      <td>...</td>\n",
       "      <td>...</td>\n",
       "      <td>...</td>\n",
       "      <td>...</td>\n",
       "      <td>...</td>\n",
       "      <td>...</td>\n",
       "      <td>...</td>\n",
       "      <td>...</td>\n",
       "    </tr>\n",
       "    <tr>\n",
       "      <th>19613</th>\n",
       "      <td>49185822</td>\n",
       "      <td>Habitación con TV con Netflix en Lavapiés</td>\n",
       "      <td>172011610</td>\n",
       "      <td>Belaid</td>\n",
       "      <td>Centro</td>\n",
       "      <td>Embajadores</td>\n",
       "      <td>Private room</td>\n",
       "      <td>23</td>\n",
       "      <td>30</td>\n",
       "      <td>0</td>\n",
       "      <td>8</td>\n",
       "      <td>349</td>\n",
       "    </tr>\n",
       "    <tr>\n",
       "      <th>19614</th>\n",
       "      <td>49186179</td>\n",
       "      <td>Habitación con TV con Netflix en Gaztambide</td>\n",
       "      <td>172011610</td>\n",
       "      <td>Belaid</td>\n",
       "      <td>Chamberí</td>\n",
       "      <td>Gaztambide</td>\n",
       "      <td>Private room</td>\n",
       "      <td>21</td>\n",
       "      <td>30</td>\n",
       "      <td>0</td>\n",
       "      <td>8</td>\n",
       "      <td>350</td>\n",
       "    </tr>\n",
       "    <tr>\n",
       "      <th>19615</th>\n",
       "      <td>49187258</td>\n",
       "      <td>Habitación con TV con Netflix en Chamberí</td>\n",
       "      <td>172011610</td>\n",
       "      <td>Belaid</td>\n",
       "      <td>Chamberí</td>\n",
       "      <td>Arapiles</td>\n",
       "      <td>Private room</td>\n",
       "      <td>22</td>\n",
       "      <td>7</td>\n",
       "      <td>0</td>\n",
       "      <td>8</td>\n",
       "      <td>364</td>\n",
       "    </tr>\n",
       "    <tr>\n",
       "      <th>19616</th>\n",
       "      <td>49187471</td>\n",
       "      <td>Habitación con TV con Netflix en Goya</td>\n",
       "      <td>172011610</td>\n",
       "      <td>Belaid</td>\n",
       "      <td>Salamanca</td>\n",
       "      <td>Guindalera</td>\n",
       "      <td>Private room</td>\n",
       "      <td>19</td>\n",
       "      <td>30</td>\n",
       "      <td>0</td>\n",
       "      <td>8</td>\n",
       "      <td>349</td>\n",
       "    </tr>\n",
       "    <tr>\n",
       "      <th>19617</th>\n",
       "      <td>49187791</td>\n",
       "      <td>Habitación con TV con Netflix en Chamberí</td>\n",
       "      <td>172011610</td>\n",
       "      <td>Belaid</td>\n",
       "      <td>Chamberí</td>\n",
       "      <td>Arapiles</td>\n",
       "      <td>Private room</td>\n",
       "      <td>20</td>\n",
       "      <td>30</td>\n",
       "      <td>0</td>\n",
       "      <td>8</td>\n",
       "      <td>349</td>\n",
       "    </tr>\n",
       "  </tbody>\n",
       "</table>\n",
       "<p>19618 rows × 12 columns</p>\n",
       "</div>"
      ],
      "text/plain": [
       "             id                                         name    host_id   \n",
       "0          6369     Rooftop terrace room ,  ensuite bathroom      13660  \\\n",
       "1         21853                         Bright and airy room      83531   \n",
       "2         23001            Apartmento Arganzuela- Madrid Rio      82175   \n",
       "3         24805                       Gran Via Studio Madrid  346366726   \n",
       "4         26825           Single Room whith private Bathroom     114340   \n",
       "...         ...                                          ...        ...   \n",
       "19613  49185822    Habitación con TV con Netflix en Lavapiés  172011610   \n",
       "19614  49186179  Habitación con TV con Netflix en Gaztambide  172011610   \n",
       "19615  49187258    Habitación con TV con Netflix en Chamberí  172011610   \n",
       "19616  49187471        Habitación con TV con Netflix en Goya  172011610   \n",
       "19617  49187791    Habitación con TV con Netflix en Chamberí  172011610   \n",
       "\n",
       "      host_name neighbourhood_group   neighbourhood        room_type  price   \n",
       "0         Simon           Chamartín  Hispanoamérica     Private room     60  \\\n",
       "1         Abdel              Latina        Cármenes     Private room     31   \n",
       "2         Jesus          Arganzuela         Legazpi  Entire home/apt     50   \n",
       "3             A              Centro     Universidad  Entire home/apt     92   \n",
       "4      Agustina          Arganzuela         Legazpi     Private room     26   \n",
       "...         ...                 ...             ...              ...    ...   \n",
       "19613    Belaid              Centro     Embajadores     Private room     23   \n",
       "19614    Belaid            Chamberí      Gaztambide     Private room     21   \n",
       "19615    Belaid            Chamberí        Arapiles     Private room     22   \n",
       "19616    Belaid           Salamanca      Guindalera     Private room     19   \n",
       "19617    Belaid            Chamberí        Arapiles     Private room     20   \n",
       "\n",
       "       minimum_nights  number_of_reviews  calculated_host_listings_count   \n",
       "0                   1                 78                               1  \\\n",
       "1                   4                 33                               2   \n",
       "2                  15                  0                               7   \n",
       "3                   5                 10                               1   \n",
       "4                   2                149                               1   \n",
       "...               ...                ...                             ...   \n",
       "19613              30                  0                               8   \n",
       "19614              30                  0                               8   \n",
       "19615               7                  0                               8   \n",
       "19616              30                  0                               8   \n",
       "19617              30                  0                               8   \n",
       "\n",
       "       availability_365  \n",
       "0                   180  \n",
       "1                   364  \n",
       "2                     1  \n",
       "3                    72  \n",
       "4                   365  \n",
       "...                 ...  \n",
       "19613               349  \n",
       "19614               350  \n",
       "19615               364  \n",
       "19616               349  \n",
       "19617               349  \n",
       "\n",
       "[19618 rows x 12 columns]"
      ]
     },
     "execution_count": 66,
     "metadata": {},
     "output_type": "execute_result"
    }
   ],
   "source": [
    "air_df.drop(['latitude','longitude','last_review','reviews_per_month'],axis=1)"
   ]
  },
  {
   "cell_type": "code",
   "execution_count": 67,
   "id": "850daf41",
   "metadata": {},
   "outputs": [],
   "source": [
    "# Conclusion"
   ]
  },
  {
   "cell_type": "markdown",
   "id": "eea5e8b8",
   "metadata": {},
   "source": [
    "- There are no duplicate values in the given data"
   ]
  },
  {
   "cell_type": "markdown",
   "id": "2756a749",
   "metadata": {},
   "source": [
    "## Part III) B)  Handling Missing Values"
   ]
  },
  {
   "cell_type": "code",
   "execution_count": 68,
   "id": "cd17dfb1",
   "metadata": {},
   "outputs": [],
   "source": [
    "# Apply isnull() function and find the sum of missing values in all columns"
   ]
  },
  {
   "cell_type": "code",
   "execution_count": 69,
   "id": "2585e2c0",
   "metadata": {},
   "outputs": [
    {
     "data": {
      "text/plain": [
       "id                                   0\n",
       "name                                 3\n",
       "host_id                              0\n",
       "host_name                          527\n",
       "neighbourhood_group                  0\n",
       "neighbourhood                        0\n",
       "latitude                             0\n",
       "longitude                            0\n",
       "room_type                            0\n",
       "price                                0\n",
       "minimum_nights                       0\n",
       "number_of_reviews                    0\n",
       "last_review                       5637\n",
       "reviews_per_month                 5637\n",
       "calculated_host_listings_count       0\n",
       "availability_365                     0\n",
       "dtype: int64"
      ]
     },
     "execution_count": 69,
     "metadata": {},
     "output_type": "execute_result"
    }
   ],
   "source": [
    "air_df.isnull().sum()"
   ]
  },
  {
   "cell_type": "code",
   "execution_count": 70,
   "id": "f3121086",
   "metadata": {},
   "outputs": [],
   "source": [
    "# Find missing value in % form."
   ]
  },
  {
   "cell_type": "code",
   "execution_count": 71,
   "id": "4340fe1f",
   "metadata": {},
   "outputs": [
    {
     "data": {
      "text/plain": [
       "id                                 0.000000\n",
       "name                               0.015292\n",
       "host_id                            0.000000\n",
       "host_name                          2.686308\n",
       "neighbourhood_group                0.000000\n",
       "neighbourhood                      0.000000\n",
       "latitude                           0.000000\n",
       "longitude                          0.000000\n",
       "room_type                          0.000000\n",
       "price                              0.000000\n",
       "minimum_nights                     0.000000\n",
       "number_of_reviews                  0.000000\n",
       "last_review                       28.733816\n",
       "reviews_per_month                 28.733816\n",
       "calculated_host_listings_count     0.000000\n",
       "availability_365                   0.000000\n",
       "dtype: float64"
      ]
     },
     "execution_count": 71,
     "metadata": {},
     "output_type": "execute_result"
    }
   ],
   "source": [
    "air_df.isnull().sum()/len(air_df)*100"
   ]
  },
  {
   "cell_type": "code",
   "execution_count": 72,
   "id": "ba713d6c",
   "metadata": {},
   "outputs": [],
   "source": [
    "# Conclusion"
   ]
  },
  {
   "cell_type": "markdown",
   "id": "40bddae9",
   "metadata": {},
   "source": [
    "- As missing values are from categorical column, so we will keep it as it is."
   ]
  },
  {
   "cell_type": "markdown",
   "id": "7dca0ce1",
   "metadata": {},
   "source": [
    "## Part III) C) Handling Outliers "
   ]
  },
  {
   "cell_type": "code",
   "execution_count": 73,
   "id": "585ee81c",
   "metadata": {},
   "outputs": [],
   "source": [
    "# Box plot"
   ]
  },
  {
   "cell_type": "code",
   "execution_count": 74,
   "id": "acc2c390",
   "metadata": {},
   "outputs": [
    {
     "data": {
      "image/png": "[encoded data removed]",
      "text/plain": [
       "<Figure size 500x500 with 1 Axes>"
      ]
     },
     "metadata": {},
     "output_type": "display_data"
    }
   ],
   "source": [
    "plt.figure(figsize=(5,5))\n",
    "sns.boxplot(air_df['price'], orient='h')\n",
    "plt.title('Boxplot showing outliers for price')\n",
    "plt.show()"
   ]
  },
  {
   "cell_type": "code",
   "execution_count": 75,
   "id": "1a88ffde",
   "metadata": {},
   "outputs": [],
   "source": [
    "# Violin plot"
   ]
  },
  {
   "cell_type": "code",
   "execution_count": 76,
   "id": "0d2118d9",
   "metadata": {},
   "outputs": [
    {
     "data": {
      "image/png": "[encoded data removed]",
      "text/plain": [
       "<Figure size 500x500 with 1 Axes>"
      ]
     },
     "metadata": {},
     "output_type": "display_data"
    }
   ],
   "source": [
    "plt.figure(figsize=(5,5))\n",
    "sns.violinplot(x=air_df['price'],color='purple')\n",
    "plt.title('Violin plot showing outliers for price')\n",
    "plt.show()"
   ]
  },
  {
   "cell_type": "code",
   "execution_count": 77,
   "id": "5371e2b5",
   "metadata": {},
   "outputs": [],
   "source": [
    "# Interquartile range (IQR)"
   ]
  },
  {
   "cell_type": "code",
   "execution_count": 78,
   "id": "b98a5a04",
   "metadata": {},
   "outputs": [
    {
     "name": "stdout",
     "output_type": "stream",
     "text": [
      "Q1: 35.0 \tQ2: 58.0 \tQ3: 100.0\n"
     ]
    }
   ],
   "source": [
    "Q1=air_df['price'].quantile(0.25)\n",
    "Q2=air_df['price'].quantile(0.50)\n",
    "Q3=air_df['price'].quantile(0.75)\n",
    "print('Q1:', Q1, '\\tQ2:', Q2, '\\tQ3:', Q3)"
   ]
  },
  {
   "cell_type": "code",
   "execution_count": 79,
   "id": "be8d118b",
   "metadata": {},
   "outputs": [
    {
     "name": "stdout",
     "output_type": "stream",
     "text": [
      "IQR: 65.0\n"
     ]
    }
   ],
   "source": [
    "IQR=Q3-Q1\n",
    "print('IQR:', IQR)"
   ]
  },
  {
   "cell_type": "code",
   "execution_count": 80,
   "id": "a2931bdd",
   "metadata": {},
   "outputs": [
    {
     "name": "stdout",
     "output_type": "stream",
     "text": [
      "Minimum whisker: -62.5 \n",
      "Maximum whisker: 197.5\n"
     ]
    }
   ],
   "source": [
    "min_whisker = Q1 - (1.5*IQR)\n",
    "max_whisker = Q3 + (1.5*IQR)\n",
    "print('Minimum whisker:', min_whisker, '\\nMaximum whisker:', max_whisker)"
   ]
  },
  {
   "cell_type": "code",
   "execution_count": 81,
   "id": "96bb6ec6",
   "metadata": {},
   "outputs": [],
   "source": [
    "# Conclusion"
   ]
  },
  {
   "cell_type": "markdown",
   "id": "d3e25030",
   "metadata": {},
   "source": [
    "- From the above observation, we can conclude that their is no outlier less than that of minimum whisker but their are many \n",
    "  outliers whose  value is greater than that of the maximum whiskers."
   ]
  },
  {
   "cell_type": "code",
   "execution_count": 82,
   "id": "966911ec",
   "metadata": {},
   "outputs": [],
   "source": [
    "# Based on your anlysis either drop extreme values or substitute them with more acceptable value."
   ]
  },
  {
   "cell_type": "markdown",
   "id": "7ed8d156",
   "metadata": {},
   "source": [
    "- As per observation, as their are many outlier values which caannot be neglected so we should substitute them with median of \n",
    "  the count."
   ]
  },
  {
   "cell_type": "code",
   "execution_count": 83,
   "id": "a6ef55d3",
   "metadata": {
    "scrolled": false
   },
   "outputs": [
    {
     "name": "stdout",
     "output_type": "stream",
     "text": [
      "Maximum price: 9999\n"
     ]
    },
    {
     "data": {
      "text/html": [
       "<div>\n",
       "<style scoped>\n",
       "    .dataframe tbody tr th:only-of-type {\n",
       "        vertical-align: middle;\n",
       "    }\n",
       "\n",
       "    .dataframe tbody tr th {\n",
       "        vertical-align: top;\n",
       "    }\n",
       "\n",
       "    .dataframe thead th {\n",
       "        text-align: right;\n",
       "    }\n",
       "</style>\n",
       "<table border=\"1\" class=\"dataframe\">\n",
       "  <thead>\n",
       "    <tr style=\"text-align: right;\">\n",
       "      <th></th>\n",
       "      <th>id</th>\n",
       "      <th>name</th>\n",
       "      <th>host_id</th>\n",
       "      <th>host_name</th>\n",
       "      <th>neighbourhood_group</th>\n",
       "      <th>neighbourhood</th>\n",
       "      <th>latitude</th>\n",
       "      <th>longitude</th>\n",
       "      <th>room_type</th>\n",
       "      <th>price</th>\n",
       "      <th>minimum_nights</th>\n",
       "      <th>number_of_reviews</th>\n",
       "      <th>last_review</th>\n",
       "      <th>reviews_per_month</th>\n",
       "      <th>calculated_host_listings_count</th>\n",
       "      <th>availability_365</th>\n",
       "    </tr>\n",
       "  </thead>\n",
       "  <tbody>\n",
       "    <tr>\n",
       "      <th>0</th>\n",
       "      <td>6369</td>\n",
       "      <td>Rooftop terrace room ,  ensuite bathroom</td>\n",
       "      <td>13660</td>\n",
       "      <td>Simon</td>\n",
       "      <td>Chamartín</td>\n",
       "      <td>Hispanoamérica</td>\n",
       "      <td>40.45724</td>\n",
       "      <td>-3.67688</td>\n",
       "      <td>Private room</td>\n",
       "      <td>60</td>\n",
       "      <td>1</td>\n",
       "      <td>78</td>\n",
       "      <td>2020-09-20</td>\n",
       "      <td>0.58</td>\n",
       "      <td>1</td>\n",
       "      <td>180</td>\n",
       "    </tr>\n",
       "    <tr>\n",
       "      <th>1</th>\n",
       "      <td>21853</td>\n",
       "      <td>Bright and airy room</td>\n",
       "      <td>83531</td>\n",
       "      <td>Abdel</td>\n",
       "      <td>Latina</td>\n",
       "      <td>Cármenes</td>\n",
       "      <td>40.40381</td>\n",
       "      <td>-3.74130</td>\n",
       "      <td>Private room</td>\n",
       "      <td>31</td>\n",
       "      <td>4</td>\n",
       "      <td>33</td>\n",
       "      <td>2018-07-15</td>\n",
       "      <td>0.42</td>\n",
       "      <td>2</td>\n",
       "      <td>364</td>\n",
       "    </tr>\n",
       "    <tr>\n",
       "      <th>2</th>\n",
       "      <td>23001</td>\n",
       "      <td>Apartmento Arganzuela- Madrid Rio</td>\n",
       "      <td>82175</td>\n",
       "      <td>Jesus</td>\n",
       "      <td>Arganzuela</td>\n",
       "      <td>Legazpi</td>\n",
       "      <td>40.38840</td>\n",
       "      <td>-3.69511</td>\n",
       "      <td>Entire home/apt</td>\n",
       "      <td>50</td>\n",
       "      <td>15</td>\n",
       "      <td>0</td>\n",
       "      <td>NaN</td>\n",
       "      <td>NaN</td>\n",
       "      <td>7</td>\n",
       "      <td>1</td>\n",
       "    </tr>\n",
       "    <tr>\n",
       "      <th>3</th>\n",
       "      <td>24805</td>\n",
       "      <td>Gran Via Studio Madrid</td>\n",
       "      <td>346366726</td>\n",
       "      <td>A</td>\n",
       "      <td>Centro</td>\n",
       "      <td>Universidad</td>\n",
       "      <td>40.42183</td>\n",
       "      <td>-3.70529</td>\n",
       "      <td>Entire home/apt</td>\n",
       "      <td>92</td>\n",
       "      <td>5</td>\n",
       "      <td>10</td>\n",
       "      <td>2020-03-01</td>\n",
       "      <td>0.13</td>\n",
       "      <td>1</td>\n",
       "      <td>72</td>\n",
       "    </tr>\n",
       "    <tr>\n",
       "      <th>4</th>\n",
       "      <td>26825</td>\n",
       "      <td>Single Room whith private Bathroom</td>\n",
       "      <td>114340</td>\n",
       "      <td>Agustina</td>\n",
       "      <td>Arganzuela</td>\n",
       "      <td>Legazpi</td>\n",
       "      <td>40.38975</td>\n",
       "      <td>-3.69018</td>\n",
       "      <td>Private room</td>\n",
       "      <td>26</td>\n",
       "      <td>2</td>\n",
       "      <td>149</td>\n",
       "      <td>2020-03-12</td>\n",
       "      <td>1.12</td>\n",
       "      <td>1</td>\n",
       "      <td>365</td>\n",
       "    </tr>\n",
       "    <tr>\n",
       "      <th>...</th>\n",
       "      <td>...</td>\n",
       "      <td>...</td>\n",
       "      <td>...</td>\n",
       "      <td>...</td>\n",
       "      <td>...</td>\n",
       "      <td>...</td>\n",
       "      <td>...</td>\n",
       "      <td>...</td>\n",
       "      <td>...</td>\n",
       "      <td>...</td>\n",
       "      <td>...</td>\n",
       "      <td>...</td>\n",
       "      <td>...</td>\n",
       "      <td>...</td>\n",
       "      <td>...</td>\n",
       "      <td>...</td>\n",
       "    </tr>\n",
       "    <tr>\n",
       "      <th>19613</th>\n",
       "      <td>49185822</td>\n",
       "      <td>Habitación con TV con Netflix en Lavapiés</td>\n",
       "      <td>172011610</td>\n",
       "      <td>Belaid</td>\n",
       "      <td>Centro</td>\n",
       "      <td>Embajadores</td>\n",
       "      <td>40.40756</td>\n",
       "      <td>-3.69937</td>\n",
       "      <td>Private room</td>\n",
       "      <td>23</td>\n",
       "      <td>30</td>\n",
       "      <td>0</td>\n",
       "      <td>NaN</td>\n",
       "      <td>NaN</td>\n",
       "      <td>8</td>\n",
       "      <td>349</td>\n",
       "    </tr>\n",
       "    <tr>\n",
       "      <th>19614</th>\n",
       "      <td>49186179</td>\n",
       "      <td>Habitación con TV con Netflix en Gaztambide</td>\n",
       "      <td>172011610</td>\n",
       "      <td>Belaid</td>\n",
       "      <td>Chamberí</td>\n",
       "      <td>Gaztambide</td>\n",
       "      <td>40.43706</td>\n",
       "      <td>-3.71364</td>\n",
       "      <td>Private room</td>\n",
       "      <td>21</td>\n",
       "      <td>30</td>\n",
       "      <td>0</td>\n",
       "      <td>NaN</td>\n",
       "      <td>NaN</td>\n",
       "      <td>8</td>\n",
       "      <td>350</td>\n",
       "    </tr>\n",
       "    <tr>\n",
       "      <th>19615</th>\n",
       "      <td>49187258</td>\n",
       "      <td>Habitación con TV con Netflix en Chamberí</td>\n",
       "      <td>172011610</td>\n",
       "      <td>Belaid</td>\n",
       "      <td>Chamberí</td>\n",
       "      <td>Arapiles</td>\n",
       "      <td>40.43857</td>\n",
       "      <td>-3.70715</td>\n",
       "      <td>Private room</td>\n",
       "      <td>22</td>\n",
       "      <td>7</td>\n",
       "      <td>0</td>\n",
       "      <td>NaN</td>\n",
       "      <td>NaN</td>\n",
       "      <td>8</td>\n",
       "      <td>364</td>\n",
       "    </tr>\n",
       "    <tr>\n",
       "      <th>19616</th>\n",
       "      <td>49187471</td>\n",
       "      <td>Habitación con TV con Netflix en Goya</td>\n",
       "      <td>172011610</td>\n",
       "      <td>Belaid</td>\n",
       "      <td>Salamanca</td>\n",
       "      <td>Guindalera</td>\n",
       "      <td>40.43027</td>\n",
       "      <td>-3.66759</td>\n",
       "      <td>Private room</td>\n",
       "      <td>19</td>\n",
       "      <td>30</td>\n",
       "      <td>0</td>\n",
       "      <td>NaN</td>\n",
       "      <td>NaN</td>\n",
       "      <td>8</td>\n",
       "      <td>349</td>\n",
       "    </tr>\n",
       "    <tr>\n",
       "      <th>19617</th>\n",
       "      <td>49187791</td>\n",
       "      <td>Habitación con TV con Netflix en Chamberí</td>\n",
       "      <td>172011610</td>\n",
       "      <td>Belaid</td>\n",
       "      <td>Chamberí</td>\n",
       "      <td>Arapiles</td>\n",
       "      <td>40.43484</td>\n",
       "      <td>-3.70667</td>\n",
       "      <td>Private room</td>\n",
       "      <td>20</td>\n",
       "      <td>30</td>\n",
       "      <td>0</td>\n",
       "      <td>NaN</td>\n",
       "      <td>NaN</td>\n",
       "      <td>8</td>\n",
       "      <td>349</td>\n",
       "    </tr>\n",
       "  </tbody>\n",
       "</table>\n",
       "<p>19618 rows × 16 columns</p>\n",
       "</div>"
      ],
      "text/plain": [
       "             id                                         name    host_id   \n",
       "0          6369     Rooftop terrace room ,  ensuite bathroom      13660  \\\n",
       "1         21853                         Bright and airy room      83531   \n",
       "2         23001            Apartmento Arganzuela- Madrid Rio      82175   \n",
       "3         24805                       Gran Via Studio Madrid  346366726   \n",
       "4         26825           Single Room whith private Bathroom     114340   \n",
       "...         ...                                          ...        ...   \n",
       "19613  49185822    Habitación con TV con Netflix en Lavapiés  172011610   \n",
       "19614  49186179  Habitación con TV con Netflix en Gaztambide  172011610   \n",
       "19615  49187258    Habitación con TV con Netflix en Chamberí  172011610   \n",
       "19616  49187471        Habitación con TV con Netflix en Goya  172011610   \n",
       "19617  49187791    Habitación con TV con Netflix en Chamberí  172011610   \n",
       "\n",
       "      host_name neighbourhood_group   neighbourhood  latitude  longitude   \n",
       "0         Simon           Chamartín  Hispanoamérica  40.45724   -3.67688  \\\n",
       "1         Abdel              Latina        Cármenes  40.40381   -3.74130   \n",
       "2         Jesus          Arganzuela         Legazpi  40.38840   -3.69511   \n",
       "3             A              Centro     Universidad  40.42183   -3.70529   \n",
       "4      Agustina          Arganzuela         Legazpi  40.38975   -3.69018   \n",
       "...         ...                 ...             ...       ...        ...   \n",
       "19613    Belaid              Centro     Embajadores  40.40756   -3.69937   \n",
       "19614    Belaid            Chamberí      Gaztambide  40.43706   -3.71364   \n",
       "19615    Belaid            Chamberí        Arapiles  40.43857   -3.70715   \n",
       "19616    Belaid           Salamanca      Guindalera  40.43027   -3.66759   \n",
       "19617    Belaid            Chamberí        Arapiles  40.43484   -3.70667   \n",
       "\n",
       "             room_type  price  minimum_nights  number_of_reviews last_review   \n",
       "0         Private room     60               1                 78  2020-09-20  \\\n",
       "1         Private room     31               4                 33  2018-07-15   \n",
       "2      Entire home/apt     50              15                  0         NaN   \n",
       "3      Entire home/apt     92               5                 10  2020-03-01   \n",
       "4         Private room     26               2                149  2020-03-12   \n",
       "...                ...    ...             ...                ...         ...   \n",
       "19613     Private room     23              30                  0         NaN   \n",
       "19614     Private room     21              30                  0         NaN   \n",
       "19615     Private room     22               7                  0         NaN   \n",
       "19616     Private room     19              30                  0         NaN   \n",
       "19617     Private room     20              30                  0         NaN   \n",
       "\n",
       "       reviews_per_month  calculated_host_listings_count  availability_365  \n",
       "0                   0.58                               1               180  \n",
       "1                   0.42                               2               364  \n",
       "2                    NaN                               7                 1  \n",
       "3                   0.13                               1                72  \n",
       "4                   1.12                               1               365  \n",
       "...                  ...                             ...               ...  \n",
       "19613                NaN                               8               349  \n",
       "19614                NaN                               8               350  \n",
       "19615                NaN                               8               364  \n",
       "19616                NaN                               8               349  \n",
       "19617                NaN                               8               349  \n",
       "\n",
       "[19618 rows x 16 columns]"
      ]
     },
     "execution_count": 83,
     "metadata": {},
     "output_type": "execute_result"
    }
   ],
   "source": [
    "max_price=air_df['price'].max()\n",
    "print('Maximum price:', max_price)\n",
    "air_df.loc[air_df['price']>197.5,'price']=max_price\n",
    "air_df"
   ]
  },
  {
   "cell_type": "markdown",
   "id": "58fcc2df",
   "metadata": {},
   "source": [
    "## Part III) D) Handling Categorical Values"
   ]
  },
  {
   "cell_type": "code",
   "execution_count": 84,
   "id": "90f91597",
   "metadata": {},
   "outputs": [],
   "source": [
    "# Nominal"
   ]
  },
  {
   "cell_type": "code",
   "execution_count": 85,
   "id": "c2db1ff2",
   "metadata": {},
   "outputs": [],
   "source": [
    "# One-hot encoding"
   ]
  },
  {
   "cell_type": "code",
   "execution_count": 86,
   "id": "86cae658",
   "metadata": {},
   "outputs": [],
   "source": [
    "air_df=pd.get_dummies(air_df, columns=['room_type'])"
   ]
  },
  {
   "cell_type": "code",
   "execution_count": 87,
   "id": "58fbf845",
   "metadata": {},
   "outputs": [
    {
     "data": {
      "text/html": [
       "<div>\n",
       "<style scoped>\n",
       "    .dataframe tbody tr th:only-of-type {\n",
       "        vertical-align: middle;\n",
       "    }\n",
       "\n",
       "    .dataframe tbody tr th {\n",
       "        vertical-align: top;\n",
       "    }\n",
       "\n",
       "    .dataframe thead th {\n",
       "        text-align: right;\n",
       "    }\n",
       "</style>\n",
       "<table border=\"1\" class=\"dataframe\">\n",
       "  <thead>\n",
       "    <tr style=\"text-align: right;\">\n",
       "      <th></th>\n",
       "      <th>id</th>\n",
       "      <th>name</th>\n",
       "      <th>host_id</th>\n",
       "      <th>host_name</th>\n",
       "      <th>neighbourhood_group</th>\n",
       "      <th>neighbourhood</th>\n",
       "      <th>latitude</th>\n",
       "      <th>longitude</th>\n",
       "      <th>price</th>\n",
       "      <th>minimum_nights</th>\n",
       "      <th>number_of_reviews</th>\n",
       "      <th>last_review</th>\n",
       "      <th>reviews_per_month</th>\n",
       "      <th>calculated_host_listings_count</th>\n",
       "      <th>availability_365</th>\n",
       "      <th>room_type_Entire home/apt</th>\n",
       "      <th>room_type_Hotel room</th>\n",
       "      <th>room_type_Private room</th>\n",
       "      <th>room_type_Shared room</th>\n",
       "    </tr>\n",
       "  </thead>\n",
       "  <tbody>\n",
       "    <tr>\n",
       "      <th>0</th>\n",
       "      <td>6369</td>\n",
       "      <td>Rooftop terrace room ,  ensuite bathroom</td>\n",
       "      <td>13660</td>\n",
       "      <td>Simon</td>\n",
       "      <td>Chamartín</td>\n",
       "      <td>Hispanoamérica</td>\n",
       "      <td>40.45724</td>\n",
       "      <td>-3.67688</td>\n",
       "      <td>60</td>\n",
       "      <td>1</td>\n",
       "      <td>78</td>\n",
       "      <td>2020-09-20</td>\n",
       "      <td>0.58</td>\n",
       "      <td>1</td>\n",
       "      <td>180</td>\n",
       "      <td>False</td>\n",
       "      <td>False</td>\n",
       "      <td>True</td>\n",
       "      <td>False</td>\n",
       "    </tr>\n",
       "    <tr>\n",
       "      <th>1</th>\n",
       "      <td>21853</td>\n",
       "      <td>Bright and airy room</td>\n",
       "      <td>83531</td>\n",
       "      <td>Abdel</td>\n",
       "      <td>Latina</td>\n",
       "      <td>Cármenes</td>\n",
       "      <td>40.40381</td>\n",
       "      <td>-3.74130</td>\n",
       "      <td>31</td>\n",
       "      <td>4</td>\n",
       "      <td>33</td>\n",
       "      <td>2018-07-15</td>\n",
       "      <td>0.42</td>\n",
       "      <td>2</td>\n",
       "      <td>364</td>\n",
       "      <td>False</td>\n",
       "      <td>False</td>\n",
       "      <td>True</td>\n",
       "      <td>False</td>\n",
       "    </tr>\n",
       "    <tr>\n",
       "      <th>2</th>\n",
       "      <td>23001</td>\n",
       "      <td>Apartmento Arganzuela- Madrid Rio</td>\n",
       "      <td>82175</td>\n",
       "      <td>Jesus</td>\n",
       "      <td>Arganzuela</td>\n",
       "      <td>Legazpi</td>\n",
       "      <td>40.38840</td>\n",
       "      <td>-3.69511</td>\n",
       "      <td>50</td>\n",
       "      <td>15</td>\n",
       "      <td>0</td>\n",
       "      <td>NaN</td>\n",
       "      <td>NaN</td>\n",
       "      <td>7</td>\n",
       "      <td>1</td>\n",
       "      <td>True</td>\n",
       "      <td>False</td>\n",
       "      <td>False</td>\n",
       "      <td>False</td>\n",
       "    </tr>\n",
       "    <tr>\n",
       "      <th>3</th>\n",
       "      <td>24805</td>\n",
       "      <td>Gran Via Studio Madrid</td>\n",
       "      <td>346366726</td>\n",
       "      <td>A</td>\n",
       "      <td>Centro</td>\n",
       "      <td>Universidad</td>\n",
       "      <td>40.42183</td>\n",
       "      <td>-3.70529</td>\n",
       "      <td>92</td>\n",
       "      <td>5</td>\n",
       "      <td>10</td>\n",
       "      <td>2020-03-01</td>\n",
       "      <td>0.13</td>\n",
       "      <td>1</td>\n",
       "      <td>72</td>\n",
       "      <td>True</td>\n",
       "      <td>False</td>\n",
       "      <td>False</td>\n",
       "      <td>False</td>\n",
       "    </tr>\n",
       "    <tr>\n",
       "      <th>4</th>\n",
       "      <td>26825</td>\n",
       "      <td>Single Room whith private Bathroom</td>\n",
       "      <td>114340</td>\n",
       "      <td>Agustina</td>\n",
       "      <td>Arganzuela</td>\n",
       "      <td>Legazpi</td>\n",
       "      <td>40.38975</td>\n",
       "      <td>-3.69018</td>\n",
       "      <td>26</td>\n",
       "      <td>2</td>\n",
       "      <td>149</td>\n",
       "      <td>2020-03-12</td>\n",
       "      <td>1.12</td>\n",
       "      <td>1</td>\n",
       "      <td>365</td>\n",
       "      <td>False</td>\n",
       "      <td>False</td>\n",
       "      <td>True</td>\n",
       "      <td>False</td>\n",
       "    </tr>\n",
       "    <tr>\n",
       "      <th>...</th>\n",
       "      <td>...</td>\n",
       "      <td>...</td>\n",
       "      <td>...</td>\n",
       "      <td>...</td>\n",
       "      <td>...</td>\n",
       "      <td>...</td>\n",
       "      <td>...</td>\n",
       "      <td>...</td>\n",
       "      <td>...</td>\n",
       "      <td>...</td>\n",
       "      <td>...</td>\n",
       "      <td>...</td>\n",
       "      <td>...</td>\n",
       "      <td>...</td>\n",
       "      <td>...</td>\n",
       "      <td>...</td>\n",
       "      <td>...</td>\n",
       "      <td>...</td>\n",
       "      <td>...</td>\n",
       "    </tr>\n",
       "    <tr>\n",
       "      <th>19613</th>\n",
       "      <td>49185822</td>\n",
       "      <td>Habitación con TV con Netflix en Lavapiés</td>\n",
       "      <td>172011610</td>\n",
       "      <td>Belaid</td>\n",
       "      <td>Centro</td>\n",
       "      <td>Embajadores</td>\n",
       "      <td>40.40756</td>\n",
       "      <td>-3.69937</td>\n",
       "      <td>23</td>\n",
       "      <td>30</td>\n",
       "      <td>0</td>\n",
       "      <td>NaN</td>\n",
       "      <td>NaN</td>\n",
       "      <td>8</td>\n",
       "      <td>349</td>\n",
       "      <td>False</td>\n",
       "      <td>False</td>\n",
       "      <td>True</td>\n",
       "      <td>False</td>\n",
       "    </tr>\n",
       "    <tr>\n",
       "      <th>19614</th>\n",
       "      <td>49186179</td>\n",
       "      <td>Habitación con TV con Netflix en Gaztambide</td>\n",
       "      <td>172011610</td>\n",
       "      <td>Belaid</td>\n",
       "      <td>Chamberí</td>\n",
       "      <td>Gaztambide</td>\n",
       "      <td>40.43706</td>\n",
       "      <td>-3.71364</td>\n",
       "      <td>21</td>\n",
       "      <td>30</td>\n",
       "      <td>0</td>\n",
       "      <td>NaN</td>\n",
       "      <td>NaN</td>\n",
       "      <td>8</td>\n",
       "      <td>350</td>\n",
       "      <td>False</td>\n",
       "      <td>False</td>\n",
       "      <td>True</td>\n",
       "      <td>False</td>\n",
       "    </tr>\n",
       "    <tr>\n",
       "      <th>19615</th>\n",
       "      <td>49187258</td>\n",
       "      <td>Habitación con TV con Netflix en Chamberí</td>\n",
       "      <td>172011610</td>\n",
       "      <td>Belaid</td>\n",
       "      <td>Chamberí</td>\n",
       "      <td>Arapiles</td>\n",
       "      <td>40.43857</td>\n",
       "      <td>-3.70715</td>\n",
       "      <td>22</td>\n",
       "      <td>7</td>\n",
       "      <td>0</td>\n",
       "      <td>NaN</td>\n",
       "      <td>NaN</td>\n",
       "      <td>8</td>\n",
       "      <td>364</td>\n",
       "      <td>False</td>\n",
       "      <td>False</td>\n",
       "      <td>True</td>\n",
       "      <td>False</td>\n",
       "    </tr>\n",
       "    <tr>\n",
       "      <th>19616</th>\n",
       "      <td>49187471</td>\n",
       "      <td>Habitación con TV con Netflix en Goya</td>\n",
       "      <td>172011610</td>\n",
       "      <td>Belaid</td>\n",
       "      <td>Salamanca</td>\n",
       "      <td>Guindalera</td>\n",
       "      <td>40.43027</td>\n",
       "      <td>-3.66759</td>\n",
       "      <td>19</td>\n",
       "      <td>30</td>\n",
       "      <td>0</td>\n",
       "      <td>NaN</td>\n",
       "      <td>NaN</td>\n",
       "      <td>8</td>\n",
       "      <td>349</td>\n",
       "      <td>False</td>\n",
       "      <td>False</td>\n",
       "      <td>True</td>\n",
       "      <td>False</td>\n",
       "    </tr>\n",
       "    <tr>\n",
       "      <th>19617</th>\n",
       "      <td>49187791</td>\n",
       "      <td>Habitación con TV con Netflix en Chamberí</td>\n",
       "      <td>172011610</td>\n",
       "      <td>Belaid</td>\n",
       "      <td>Chamberí</td>\n",
       "      <td>Arapiles</td>\n",
       "      <td>40.43484</td>\n",
       "      <td>-3.70667</td>\n",
       "      <td>20</td>\n",
       "      <td>30</td>\n",
       "      <td>0</td>\n",
       "      <td>NaN</td>\n",
       "      <td>NaN</td>\n",
       "      <td>8</td>\n",
       "      <td>349</td>\n",
       "      <td>False</td>\n",
       "      <td>False</td>\n",
       "      <td>True</td>\n",
       "      <td>False</td>\n",
       "    </tr>\n",
       "  </tbody>\n",
       "</table>\n",
       "<p>19618 rows × 19 columns</p>\n",
       "</div>"
      ],
      "text/plain": [
       "             id                                         name    host_id   \n",
       "0          6369     Rooftop terrace room ,  ensuite bathroom      13660  \\\n",
       "1         21853                         Bright and airy room      83531   \n",
       "2         23001            Apartmento Arganzuela- Madrid Rio      82175   \n",
       "3         24805                       Gran Via Studio Madrid  346366726   \n",
       "4         26825           Single Room whith private Bathroom     114340   \n",
       "...         ...                                          ...        ...   \n",
       "19613  49185822    Habitación con TV con Netflix en Lavapiés  172011610   \n",
       "19614  49186179  Habitación con TV con Netflix en Gaztambide  172011610   \n",
       "19615  49187258    Habitación con TV con Netflix en Chamberí  172011610   \n",
       "19616  49187471        Habitación con TV con Netflix en Goya  172011610   \n",
       "19617  49187791    Habitación con TV con Netflix en Chamberí  172011610   \n",
       "\n",
       "      host_name neighbourhood_group   neighbourhood  latitude  longitude   \n",
       "0         Simon           Chamartín  Hispanoamérica  40.45724   -3.67688  \\\n",
       "1         Abdel              Latina        Cármenes  40.40381   -3.74130   \n",
       "2         Jesus          Arganzuela         Legazpi  40.38840   -3.69511   \n",
       "3             A              Centro     Universidad  40.42183   -3.70529   \n",
       "4      Agustina          Arganzuela         Legazpi  40.38975   -3.69018   \n",
       "...         ...                 ...             ...       ...        ...   \n",
       "19613    Belaid              Centro     Embajadores  40.40756   -3.69937   \n",
       "19614    Belaid            Chamberí      Gaztambide  40.43706   -3.71364   \n",
       "19615    Belaid            Chamberí        Arapiles  40.43857   -3.70715   \n",
       "19616    Belaid           Salamanca      Guindalera  40.43027   -3.66759   \n",
       "19617    Belaid            Chamberí        Arapiles  40.43484   -3.70667   \n",
       "\n",
       "       price  minimum_nights  number_of_reviews last_review   \n",
       "0         60               1                 78  2020-09-20  \\\n",
       "1         31               4                 33  2018-07-15   \n",
       "2         50              15                  0         NaN   \n",
       "3         92               5                 10  2020-03-01   \n",
       "4         26               2                149  2020-03-12   \n",
       "...      ...             ...                ...         ...   \n",
       "19613     23              30                  0         NaN   \n",
       "19614     21              30                  0         NaN   \n",
       "19615     22               7                  0         NaN   \n",
       "19616     19              30                  0         NaN   \n",
       "19617     20              30                  0         NaN   \n",
       "\n",
       "       reviews_per_month  calculated_host_listings_count  availability_365   \n",
       "0                   0.58                               1               180  \\\n",
       "1                   0.42                               2               364   \n",
       "2                    NaN                               7                 1   \n",
       "3                   0.13                               1                72   \n",
       "4                   1.12                               1               365   \n",
       "...                  ...                             ...               ...   \n",
       "19613                NaN                               8               349   \n",
       "19614                NaN                               8               350   \n",
       "19615                NaN                               8               364   \n",
       "19616                NaN                               8               349   \n",
       "19617                NaN                               8               349   \n",
       "\n",
       "       room_type_Entire home/apt  room_type_Hotel room   \n",
       "0                          False                 False  \\\n",
       "1                          False                 False   \n",
       "2                           True                 False   \n",
       "3                           True                 False   \n",
       "4                          False                 False   \n",
       "...                          ...                   ...   \n",
       "19613                      False                 False   \n",
       "19614                      False                 False   \n",
       "19615                      False                 False   \n",
       "19616                      False                 False   \n",
       "19617                      False                 False   \n",
       "\n",
       "       room_type_Private room  room_type_Shared room  \n",
       "0                        True                  False  \n",
       "1                        True                  False  \n",
       "2                       False                  False  \n",
       "3                       False                  False  \n",
       "4                        True                  False  \n",
       "...                       ...                    ...  \n",
       "19613                    True                  False  \n",
       "19614                    True                  False  \n",
       "19615                    True                  False  \n",
       "19616                    True                  False  \n",
       "19617                    True                  False  \n",
       "\n",
       "[19618 rows x 19 columns]"
      ]
     },
     "execution_count": 87,
     "metadata": {},
     "output_type": "execute_result"
    }
   ],
   "source": [
    "air_df"
   ]
  },
  {
   "cell_type": "code",
   "execution_count": 88,
   "id": "8e98eeb0",
   "metadata": {},
   "outputs": [
    {
     "data": {
      "text/html": [
       "<div>\n",
       "<style scoped>\n",
       "    .dataframe tbody tr th:only-of-type {\n",
       "        vertical-align: middle;\n",
       "    }\n",
       "\n",
       "    .dataframe tbody tr th {\n",
       "        vertical-align: top;\n",
       "    }\n",
       "\n",
       "    .dataframe thead th {\n",
       "        text-align: right;\n",
       "    }\n",
       "</style>\n",
       "<table border=\"1\" class=\"dataframe\">\n",
       "  <thead>\n",
       "    <tr style=\"text-align: right;\">\n",
       "      <th></th>\n",
       "      <th>id</th>\n",
       "      <th>name</th>\n",
       "      <th>host_id</th>\n",
       "      <th>host_name</th>\n",
       "      <th>neighbourhood_group</th>\n",
       "      <th>neighbourhood</th>\n",
       "      <th>latitude</th>\n",
       "      <th>longitude</th>\n",
       "      <th>price</th>\n",
       "      <th>minimum_nights</th>\n",
       "      <th>number_of_reviews</th>\n",
       "      <th>last_review</th>\n",
       "      <th>reviews_per_month</th>\n",
       "      <th>calculated_host_listings_count</th>\n",
       "      <th>availability_365</th>\n",
       "      <th>room_type_Entire home/apt</th>\n",
       "      <th>room_type_Hotel room</th>\n",
       "      <th>room_type_Private room</th>\n",
       "      <th>room_type_Shared room</th>\n",
       "    </tr>\n",
       "  </thead>\n",
       "  <tbody>\n",
       "    <tr>\n",
       "      <th>0</th>\n",
       "      <td>6369</td>\n",
       "      <td>Rooftop terrace room ,  ensuite bathroom</td>\n",
       "      <td>13660</td>\n",
       "      <td>Simon</td>\n",
       "      <td>Chamartín</td>\n",
       "      <td>Hispanoamérica</td>\n",
       "      <td>40.45724</td>\n",
       "      <td>-3.67688</td>\n",
       "      <td>60</td>\n",
       "      <td>1</td>\n",
       "      <td>78</td>\n",
       "      <td>2020-09-20</td>\n",
       "      <td>0.58</td>\n",
       "      <td>1</td>\n",
       "      <td>180</td>\n",
       "      <td>0</td>\n",
       "      <td>0</td>\n",
       "      <td>1</td>\n",
       "      <td>0</td>\n",
       "    </tr>\n",
       "    <tr>\n",
       "      <th>1</th>\n",
       "      <td>21853</td>\n",
       "      <td>Bright and airy room</td>\n",
       "      <td>83531</td>\n",
       "      <td>Abdel</td>\n",
       "      <td>Latina</td>\n",
       "      <td>Cármenes</td>\n",
       "      <td>40.40381</td>\n",
       "      <td>-3.74130</td>\n",
       "      <td>31</td>\n",
       "      <td>4</td>\n",
       "      <td>33</td>\n",
       "      <td>2018-07-15</td>\n",
       "      <td>0.42</td>\n",
       "      <td>2</td>\n",
       "      <td>364</td>\n",
       "      <td>0</td>\n",
       "      <td>0</td>\n",
       "      <td>1</td>\n",
       "      <td>0</td>\n",
       "    </tr>\n",
       "    <tr>\n",
       "      <th>2</th>\n",
       "      <td>23001</td>\n",
       "      <td>Apartmento Arganzuela- Madrid Rio</td>\n",
       "      <td>82175</td>\n",
       "      <td>Jesus</td>\n",
       "      <td>Arganzuela</td>\n",
       "      <td>Legazpi</td>\n",
       "      <td>40.38840</td>\n",
       "      <td>-3.69511</td>\n",
       "      <td>50</td>\n",
       "      <td>15</td>\n",
       "      <td>0</td>\n",
       "      <td>NaN</td>\n",
       "      <td>NaN</td>\n",
       "      <td>7</td>\n",
       "      <td>1</td>\n",
       "      <td>1</td>\n",
       "      <td>0</td>\n",
       "      <td>0</td>\n",
       "      <td>0</td>\n",
       "    </tr>\n",
       "    <tr>\n",
       "      <th>3</th>\n",
       "      <td>24805</td>\n",
       "      <td>Gran Via Studio Madrid</td>\n",
       "      <td>346366726</td>\n",
       "      <td>A</td>\n",
       "      <td>Centro</td>\n",
       "      <td>Universidad</td>\n",
       "      <td>40.42183</td>\n",
       "      <td>-3.70529</td>\n",
       "      <td>92</td>\n",
       "      <td>5</td>\n",
       "      <td>10</td>\n",
       "      <td>2020-03-01</td>\n",
       "      <td>0.13</td>\n",
       "      <td>1</td>\n",
       "      <td>72</td>\n",
       "      <td>1</td>\n",
       "      <td>0</td>\n",
       "      <td>0</td>\n",
       "      <td>0</td>\n",
       "    </tr>\n",
       "    <tr>\n",
       "      <th>4</th>\n",
       "      <td>26825</td>\n",
       "      <td>Single Room whith private Bathroom</td>\n",
       "      <td>114340</td>\n",
       "      <td>Agustina</td>\n",
       "      <td>Arganzuela</td>\n",
       "      <td>Legazpi</td>\n",
       "      <td>40.38975</td>\n",
       "      <td>-3.69018</td>\n",
       "      <td>26</td>\n",
       "      <td>2</td>\n",
       "      <td>149</td>\n",
       "      <td>2020-03-12</td>\n",
       "      <td>1.12</td>\n",
       "      <td>1</td>\n",
       "      <td>365</td>\n",
       "      <td>0</td>\n",
       "      <td>0</td>\n",
       "      <td>1</td>\n",
       "      <td>0</td>\n",
       "    </tr>\n",
       "    <tr>\n",
       "      <th>...</th>\n",
       "      <td>...</td>\n",
       "      <td>...</td>\n",
       "      <td>...</td>\n",
       "      <td>...</td>\n",
       "      <td>...</td>\n",
       "      <td>...</td>\n",
       "      <td>...</td>\n",
       "      <td>...</td>\n",
       "      <td>...</td>\n",
       "      <td>...</td>\n",
       "      <td>...</td>\n",
       "      <td>...</td>\n",
       "      <td>...</td>\n",
       "      <td>...</td>\n",
       "      <td>...</td>\n",
       "      <td>...</td>\n",
       "      <td>...</td>\n",
       "      <td>...</td>\n",
       "      <td>...</td>\n",
       "    </tr>\n",
       "    <tr>\n",
       "      <th>19613</th>\n",
       "      <td>49185822</td>\n",
       "      <td>Habitación con TV con Netflix en Lavapiés</td>\n",
       "      <td>172011610</td>\n",
       "      <td>Belaid</td>\n",
       "      <td>Centro</td>\n",
       "      <td>Embajadores</td>\n",
       "      <td>40.40756</td>\n",
       "      <td>-3.69937</td>\n",
       "      <td>23</td>\n",
       "      <td>30</td>\n",
       "      <td>0</td>\n",
       "      <td>NaN</td>\n",
       "      <td>NaN</td>\n",
       "      <td>8</td>\n",
       "      <td>349</td>\n",
       "      <td>0</td>\n",
       "      <td>0</td>\n",
       "      <td>1</td>\n",
       "      <td>0</td>\n",
       "    </tr>\n",
       "    <tr>\n",
       "      <th>19614</th>\n",
       "      <td>49186179</td>\n",
       "      <td>Habitación con TV con Netflix en Gaztambide</td>\n",
       "      <td>172011610</td>\n",
       "      <td>Belaid</td>\n",
       "      <td>Chamberí</td>\n",
       "      <td>Gaztambide</td>\n",
       "      <td>40.43706</td>\n",
       "      <td>-3.71364</td>\n",
       "      <td>21</td>\n",
       "      <td>30</td>\n",
       "      <td>0</td>\n",
       "      <td>NaN</td>\n",
       "      <td>NaN</td>\n",
       "      <td>8</td>\n",
       "      <td>350</td>\n",
       "      <td>0</td>\n",
       "      <td>0</td>\n",
       "      <td>1</td>\n",
       "      <td>0</td>\n",
       "    </tr>\n",
       "    <tr>\n",
       "      <th>19615</th>\n",
       "      <td>49187258</td>\n",
       "      <td>Habitación con TV con Netflix en Chamberí</td>\n",
       "      <td>172011610</td>\n",
       "      <td>Belaid</td>\n",
       "      <td>Chamberí</td>\n",
       "      <td>Arapiles</td>\n",
       "      <td>40.43857</td>\n",
       "      <td>-3.70715</td>\n",
       "      <td>22</td>\n",
       "      <td>7</td>\n",
       "      <td>0</td>\n",
       "      <td>NaN</td>\n",
       "      <td>NaN</td>\n",
       "      <td>8</td>\n",
       "      <td>364</td>\n",
       "      <td>0</td>\n",
       "      <td>0</td>\n",
       "      <td>1</td>\n",
       "      <td>0</td>\n",
       "    </tr>\n",
       "    <tr>\n",
       "      <th>19616</th>\n",
       "      <td>49187471</td>\n",
       "      <td>Habitación con TV con Netflix en Goya</td>\n",
       "      <td>172011610</td>\n",
       "      <td>Belaid</td>\n",
       "      <td>Salamanca</td>\n",
       "      <td>Guindalera</td>\n",
       "      <td>40.43027</td>\n",
       "      <td>-3.66759</td>\n",
       "      <td>19</td>\n",
       "      <td>30</td>\n",
       "      <td>0</td>\n",
       "      <td>NaN</td>\n",
       "      <td>NaN</td>\n",
       "      <td>8</td>\n",
       "      <td>349</td>\n",
       "      <td>0</td>\n",
       "      <td>0</td>\n",
       "      <td>1</td>\n",
       "      <td>0</td>\n",
       "    </tr>\n",
       "    <tr>\n",
       "      <th>19617</th>\n",
       "      <td>49187791</td>\n",
       "      <td>Habitación con TV con Netflix en Chamberí</td>\n",
       "      <td>172011610</td>\n",
       "      <td>Belaid</td>\n",
       "      <td>Chamberí</td>\n",
       "      <td>Arapiles</td>\n",
       "      <td>40.43484</td>\n",
       "      <td>-3.70667</td>\n",
       "      <td>20</td>\n",
       "      <td>30</td>\n",
       "      <td>0</td>\n",
       "      <td>NaN</td>\n",
       "      <td>NaN</td>\n",
       "      <td>8</td>\n",
       "      <td>349</td>\n",
       "      <td>0</td>\n",
       "      <td>0</td>\n",
       "      <td>1</td>\n",
       "      <td>0</td>\n",
       "    </tr>\n",
       "  </tbody>\n",
       "</table>\n",
       "<p>19618 rows × 19 columns</p>\n",
       "</div>"
      ],
      "text/plain": [
       "             id                                         name    host_id   \n",
       "0          6369     Rooftop terrace room ,  ensuite bathroom      13660  \\\n",
       "1         21853                         Bright and airy room      83531   \n",
       "2         23001            Apartmento Arganzuela- Madrid Rio      82175   \n",
       "3         24805                       Gran Via Studio Madrid  346366726   \n",
       "4         26825           Single Room whith private Bathroom     114340   \n",
       "...         ...                                          ...        ...   \n",
       "19613  49185822    Habitación con TV con Netflix en Lavapiés  172011610   \n",
       "19614  49186179  Habitación con TV con Netflix en Gaztambide  172011610   \n",
       "19615  49187258    Habitación con TV con Netflix en Chamberí  172011610   \n",
       "19616  49187471        Habitación con TV con Netflix en Goya  172011610   \n",
       "19617  49187791    Habitación con TV con Netflix en Chamberí  172011610   \n",
       "\n",
       "      host_name neighbourhood_group   neighbourhood  latitude  longitude   \n",
       "0         Simon           Chamartín  Hispanoamérica  40.45724   -3.67688  \\\n",
       "1         Abdel              Latina        Cármenes  40.40381   -3.74130   \n",
       "2         Jesus          Arganzuela         Legazpi  40.38840   -3.69511   \n",
       "3             A              Centro     Universidad  40.42183   -3.70529   \n",
       "4      Agustina          Arganzuela         Legazpi  40.38975   -3.69018   \n",
       "...         ...                 ...             ...       ...        ...   \n",
       "19613    Belaid              Centro     Embajadores  40.40756   -3.69937   \n",
       "19614    Belaid            Chamberí      Gaztambide  40.43706   -3.71364   \n",
       "19615    Belaid            Chamberí        Arapiles  40.43857   -3.70715   \n",
       "19616    Belaid           Salamanca      Guindalera  40.43027   -3.66759   \n",
       "19617    Belaid            Chamberí        Arapiles  40.43484   -3.70667   \n",
       "\n",
       "       price  minimum_nights  number_of_reviews last_review   \n",
       "0         60               1                 78  2020-09-20  \\\n",
       "1         31               4                 33  2018-07-15   \n",
       "2         50              15                  0         NaN   \n",
       "3         92               5                 10  2020-03-01   \n",
       "4         26               2                149  2020-03-12   \n",
       "...      ...             ...                ...         ...   \n",
       "19613     23              30                  0         NaN   \n",
       "19614     21              30                  0         NaN   \n",
       "19615     22               7                  0         NaN   \n",
       "19616     19              30                  0         NaN   \n",
       "19617     20              30                  0         NaN   \n",
       "\n",
       "       reviews_per_month  calculated_host_listings_count  availability_365   \n",
       "0                   0.58                               1               180  \\\n",
       "1                   0.42                               2               364   \n",
       "2                    NaN                               7                 1   \n",
       "3                   0.13                               1                72   \n",
       "4                   1.12                               1               365   \n",
       "...                  ...                             ...               ...   \n",
       "19613                NaN                               8               349   \n",
       "19614                NaN                               8               350   \n",
       "19615                NaN                               8               364   \n",
       "19616                NaN                               8               349   \n",
       "19617                NaN                               8               349   \n",
       "\n",
       "       room_type_Entire home/apt  room_type_Hotel room   \n",
       "0                              0                     0  \\\n",
       "1                              0                     0   \n",
       "2                              1                     0   \n",
       "3                              1                     0   \n",
       "4                              0                     0   \n",
       "...                          ...                   ...   \n",
       "19613                          0                     0   \n",
       "19614                          0                     0   \n",
       "19615                          0                     0   \n",
       "19616                          0                     0   \n",
       "19617                          0                     0   \n",
       "\n",
       "       room_type_Private room  room_type_Shared room  \n",
       "0                           1                      0  \n",
       "1                           1                      0  \n",
       "2                           0                      0  \n",
       "3                           0                      0  \n",
       "4                           1                      0  \n",
       "...                       ...                    ...  \n",
       "19613                       1                      0  \n",
       "19614                       1                      0  \n",
       "19615                       1                      0  \n",
       "19616                       1                      0  \n",
       "19617                       1                      0  \n",
       "\n",
       "[19618 rows x 19 columns]"
      ]
     },
     "execution_count": 88,
     "metadata": {},
     "output_type": "execute_result"
    }
   ],
   "source": [
    "air_df.replace({False : 0, True: 1}, inplace=True)\n",
    "air_df"
   ]
  },
  {
   "cell_type": "markdown",
   "id": "bfb3dc47",
   "metadata": {},
   "source": [
    "- Low Cardinality: room_type\n",
    "- High Cardinality: name, host_name, last_review, neighbourhood_group, neighbourhood"
   ]
  },
  {
   "cell_type": "code",
   "execution_count": 89,
   "id": "2f0dba81",
   "metadata": {},
   "outputs": [],
   "source": [
    "# Applying frequency encoding on high cardinality columns"
   ]
  },
  {
   "cell_type": "code",
   "execution_count": 90,
   "id": "4b27d080",
   "metadata": {},
   "outputs": [
    {
     "data": {
      "text/plain": [
       "name\n",
       "Habitación privada                                    22\n",
       "HABITACIÓN COMPARTIDA/SHARED ROOM CENTRAL MADRID      20\n",
       "HABITACIÓN FEMENINA COMPARTIDA/SHARED FEMALE ROOM     15\n",
       "2Bedroom 2Bathroom apartament in Nuñez de Balboa      13\n",
       "APARTMENT 4PAX GRAN VIA CENTRO PUERTA SOL MALASAÑA    12\n",
       "Name: count, dtype: int64"
      ]
     },
     "execution_count": 90,
     "metadata": {},
     "output_type": "execute_result"
    }
   ],
   "source": [
    "air_df['name'].value_counts().head()"
   ]
  },
  {
   "cell_type": "code",
   "execution_count": 91,
   "id": "9c676c93",
   "metadata": {},
   "outputs": [
    {
     "data": {
      "text/plain": [
       "host_name\n",
       "Daniel    255\n",
       "Carlos    231\n",
       "Javier    230\n",
       "Maria     192\n",
       "Ana       186\n",
       "Name: count, dtype: int64"
      ]
     },
     "execution_count": 91,
     "metadata": {},
     "output_type": "execute_result"
    }
   ],
   "source": [
    "air_df['host_name'].value_counts().head()"
   ]
  },
  {
   "cell_type": "markdown",
   "id": "9d8ac300",
   "metadata": {},
   "source": [
    "- Similarly, we can get count of different values present in a specific column.\n",
    "- We have performed one-hot encoding on room_type column as it has low cardinality. \n",
    "- We can also perform target-mean encoding on columns having high cardinality.\n",
    "- As it's difficult for machines to interpret string values, so in this process we try to convert string values into numeric    values"
   ]
  },
  {
   "cell_type": "markdown",
   "id": "bead1eaa",
   "metadata": {},
   "source": [
    "## Part III) E) Handling Numerical values"
   ]
  },
  {
   "cell_type": "code",
   "execution_count": 92,
   "id": "933c2d9f",
   "metadata": {},
   "outputs": [],
   "source": [
    "# Whether the data is symmetrical or not."
   ]
  },
  {
   "cell_type": "code",
   "execution_count": 93,
   "id": "26372889",
   "metadata": {},
   "outputs": [
    {
     "data": {
      "text/plain": [
       "2.720722896158208"
      ]
     },
     "execution_count": 93,
     "metadata": {},
     "output_type": "execute_result"
    }
   ],
   "source": [
    "air_df['price'].skew()"
   ]
  },
  {
   "cell_type": "markdown",
   "id": "09f3b2cd",
   "metadata": {},
   "source": [
    "- Since the skew value mentioned above is greater than 0.5, it is considered asymmetrical."
   ]
  },
  {
   "cell_type": "code",
   "execution_count": 94,
   "id": "d6050581",
   "metadata": {},
   "outputs": [],
   "source": [
    "# Plot histogram plot."
   ]
  },
  {
   "cell_type": "code",
   "execution_count": 95,
   "id": "afa89901",
   "metadata": {},
   "outputs": [
    {
     "data": {
      "image/png": "[encoded data removed]",
      "text/plain": [
       "<Figure size 300x300 with 1 Axes>"
      ]
     },
     "metadata": {},
     "output_type": "display_data"
    }
   ],
   "source": [
    "plt.figure(figsize=(3,3))\n",
    "sns.histplot(air_df['price'],bins=50, color='green')\n",
    "plt.title('Histogram for price')\n",
    "plt.show()"
   ]
  },
  {
   "cell_type": "code",
   "execution_count": 96,
   "id": "306946ef",
   "metadata": {},
   "outputs": [],
   "source": [
    "# Plot distribution plot"
   ]
  },
  {
   "cell_type": "code",
   "execution_count": 97,
   "id": "2a05c95d",
   "metadata": {},
   "outputs": [
    {
     "data": {
      "image/png": "[encoded data removed]",
      "text/plain": [
       "<Figure size 500x500 with 1 Axes>"
      ]
     },
     "metadata": {},
     "output_type": "display_data"
    }
   ],
   "source": [
    "plt.figure(figsize=(5,5))\n",
    "sns.kdeplot(air_df['price'],color='purple')\n",
    "plt.title('Distribution plot for price')\n",
    "plt.show()"
   ]
  },
  {
   "cell_type": "code",
   "execution_count": 98,
   "id": "c95a844e",
   "metadata": {},
   "outputs": [],
   "source": [
    "## If your data is skewed and non-symmetrical apply min-max scaler."
   ]
  },
  {
   "cell_type": "code",
   "execution_count": 99,
   "id": "72b53b76",
   "metadata": {},
   "outputs": [],
   "source": [
    "from sklearn.preprocessing import MinMaxScaler\n",
    "scaler=MinMaxScaler()\n",
    "air_df[['price','availability_365']]=scaler.fit_transform(air_df[['price','availability_365']])"
   ]
  },
  {
   "cell_type": "code",
   "execution_count": 100,
   "id": "56ec612f",
   "metadata": {},
   "outputs": [],
   "source": [
    "# Confirm the distribution patter by Plot histogram and distribution plot again."
   ]
  },
  {
   "cell_type": "code",
   "execution_count": 101,
   "id": "ada486bf",
   "metadata": {},
   "outputs": [
    {
     "data": {
      "image/png": "[encoded data removed]",
      "text/plain": [
       "<Figure size 400x400 with 1 Axes>"
      ]
     },
     "metadata": {},
     "output_type": "display_data"
    }
   ],
   "source": [
    "# Price\n",
    "plt.figure(figsize=(4,4))\n",
    "sns.histplot(x=air_df['price'],kde=True, color='green', bins=30)\n",
    "plt.title('Histogram for price')\n",
    "plt.show()\n"
   ]
  },
  {
   "cell_type": "code",
   "execution_count": 105,
   "id": "1e9b3692",
   "metadata": {},
   "outputs": [
    {
     "data": {
      "image/png": "[encoded data removed]",
      "text/plain": [
       "<Figure size 400x400 with 1 Axes>"
      ]
     },
     "metadata": {},
     "output_type": "display_data"
    }
   ],
   "source": [
    "# Availability\n",
    "plt.figure(figsize=(4,4))\n",
    "sns.histplot(x=air_df['availability_365'],kde=True, color='orange', bins=30)\n",
    "plt.title('Histogram for availability')\n",
    "plt.ylabel('availability')\n",
    "plt.show()"
   ]
  },
  {
   "cell_type": "code",
   "execution_count": 103,
   "id": "f1f75bdf",
   "metadata": {},
   "outputs": [],
   "source": [
    "# Conclusion"
   ]
  },
  {
   "cell_type": "markdown",
   "id": "53e5bd7e",
   "metadata": {},
   "source": [
    "- From the above observation, we can say that **price** column is assymetrical as it's skew value is 1.2 which is not \n",
    "  between -0.5 to 0.5."
   ]
  }
 ],
 "metadata": {
  "kernelspec": {
   "display_name": "Python 3 (ipykernel)",
   "language": "python",
   "name": "python3"
  },
  "language_info": {
   "codemirror_mode": {
    "name": "ipython",
    "version": 3
   },
   "file_extension": ".py",
   "mimetype": "text/x-python",
   "name": "python",
   "nbconvert_exporter": "python",
   "pygments_lexer": "ipython3",
   "version": "3.10.9"
  }
 },
 "nbformat": 4,
 "nbformat_minor": 5
}
